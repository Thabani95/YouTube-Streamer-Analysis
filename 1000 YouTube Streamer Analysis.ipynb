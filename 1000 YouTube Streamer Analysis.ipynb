{
 "cells": [
  {
   "cell_type": "markdown",
   "id": "d1db8d9f",
   "metadata": {},
   "source": [
    "# Imports"
   ]
  },
  {
   "cell_type": "code",
   "execution_count": 1,
   "id": "fcb24196",
   "metadata": {},
   "outputs": [],
   "source": [
    "# Import libraries and modules\n",
    "import pandas as pd\n",
    "import numpy as np\n",
    "import seaborn as sns\n",
    "import matplotlib.pyplot as plt\n"
   ]
  },
  {
   "cell_type": "markdown",
   "id": "7347ae4b",
   "metadata": {},
   "source": [
    "## Load data"
   ]
  },
  {
   "cell_type": "markdown",
   "id": "fceaffc7",
   "metadata": {},
   "source": [
    "# 1. Data Exploration:"
   ]
  },
  {
   "cell_type": "markdown",
   "id": "2314f349",
   "metadata": {},
   "source": [
    "* Start by exploring the dataset to understand its structure and identify key variables.\n",
    "* Check for missing data and outliers."
   ]
  },
  {
   "cell_type": "code",
   "execution_count": 2,
   "id": "9fac8303",
   "metadata": {
    "scrolled": true
   },
   "outputs": [],
   "source": [
    "# read the data into dataframe\n",
    "df_youtube = pd.read_csv(r\"C:\\Users\\Thabani\\OneDrive - Terra Group\\Desktop\\PowerBI Data\\youtubers_df.csv\", index_col = 0)\n"
   ]
  },
  {
   "cell_type": "code",
   "execution_count": 3,
   "id": "3b70ace0",
   "metadata": {
    "scrolled": false
   },
   "outputs": [
    {
     "data": {
      "text/html": [
       "<div>\n",
       "<style scoped>\n",
       "    .dataframe tbody tr th:only-of-type {\n",
       "        vertical-align: middle;\n",
       "    }\n",
       "\n",
       "    .dataframe tbody tr th {\n",
       "        vertical-align: top;\n",
       "    }\n",
       "\n",
       "    .dataframe thead th {\n",
       "        text-align: right;\n",
       "    }\n",
       "</style>\n",
       "<table border=\"1\" class=\"dataframe\">\n",
       "  <thead>\n",
       "    <tr style=\"text-align: right;\">\n",
       "      <th></th>\n",
       "      <th>Username</th>\n",
       "      <th>Categories</th>\n",
       "      <th>Suscribers</th>\n",
       "      <th>Country</th>\n",
       "      <th>Visits</th>\n",
       "      <th>Likes</th>\n",
       "      <th>Comments</th>\n",
       "      <th>Links</th>\n",
       "    </tr>\n",
       "    <tr>\n",
       "      <th>Rank</th>\n",
       "      <th></th>\n",
       "      <th></th>\n",
       "      <th></th>\n",
       "      <th></th>\n",
       "      <th></th>\n",
       "      <th></th>\n",
       "      <th></th>\n",
       "      <th></th>\n",
       "    </tr>\n",
       "  </thead>\n",
       "  <tbody>\n",
       "    <tr>\n",
       "      <th>1</th>\n",
       "      <td>tseries</td>\n",
       "      <td>Música y baile</td>\n",
       "      <td>249500000.0</td>\n",
       "      <td>India</td>\n",
       "      <td>86200.0</td>\n",
       "      <td>2700.0</td>\n",
       "      <td>78.0</td>\n",
       "      <td>http://youtube.com/channel/UCq-Fj5jknLsUf-MWSy...</td>\n",
       "    </tr>\n",
       "    <tr>\n",
       "      <th>2</th>\n",
       "      <td>MrBeast</td>\n",
       "      <td>Videojuegos, Humor</td>\n",
       "      <td>183500000.0</td>\n",
       "      <td>Estados Unidos</td>\n",
       "      <td>117400000.0</td>\n",
       "      <td>5300000.0</td>\n",
       "      <td>18500.0</td>\n",
       "      <td>http://youtube.com/channel/UCX6OQ3DkcsbYNE6H8u...</td>\n",
       "    </tr>\n",
       "    <tr>\n",
       "      <th>3</th>\n",
       "      <td>CoComelon</td>\n",
       "      <td>Educación</td>\n",
       "      <td>165500000.0</td>\n",
       "      <td>Unknown</td>\n",
       "      <td>7000000.0</td>\n",
       "      <td>24700.0</td>\n",
       "      <td>0.0</td>\n",
       "      <td>http://youtube.com/channel/UCbCmjCuTUZos6Inko4...</td>\n",
       "    </tr>\n",
       "    <tr>\n",
       "      <th>4</th>\n",
       "      <td>SETIndia</td>\n",
       "      <td>NaN</td>\n",
       "      <td>162600000.0</td>\n",
       "      <td>India</td>\n",
       "      <td>15600.0</td>\n",
       "      <td>166.0</td>\n",
       "      <td>9.0</td>\n",
       "      <td>http://youtube.com/channel/UCpEhnqL0y41EpW2TvW...</td>\n",
       "    </tr>\n",
       "    <tr>\n",
       "      <th>5</th>\n",
       "      <td>KidsDianaShow</td>\n",
       "      <td>Animación, Juguetes</td>\n",
       "      <td>113500000.0</td>\n",
       "      <td>Unknown</td>\n",
       "      <td>3900000.0</td>\n",
       "      <td>12400.0</td>\n",
       "      <td>0.0</td>\n",
       "      <td>http://youtube.com/channel/UCk8GzjMOrta8yxDcKf...</td>\n",
       "    </tr>\n",
       "  </tbody>\n",
       "</table>\n",
       "</div>"
      ],
      "text/plain": [
       "           Username           Categories   Suscribers         Country  \\\n",
       "Rank                                                                    \n",
       "1           tseries       Música y baile  249500000.0           India   \n",
       "2           MrBeast   Videojuegos, Humor  183500000.0  Estados Unidos   \n",
       "3         CoComelon            Educación  165500000.0         Unknown   \n",
       "4          SETIndia                  NaN  162600000.0           India   \n",
       "5     KidsDianaShow  Animación, Juguetes  113500000.0         Unknown   \n",
       "\n",
       "           Visits      Likes  Comments  \\\n",
       "Rank                                     \n",
       "1         86200.0     2700.0      78.0   \n",
       "2     117400000.0  5300000.0   18500.0   \n",
       "3       7000000.0    24700.0       0.0   \n",
       "4         15600.0      166.0       9.0   \n",
       "5       3900000.0    12400.0       0.0   \n",
       "\n",
       "                                                  Links  \n",
       "Rank                                                     \n",
       "1     http://youtube.com/channel/UCq-Fj5jknLsUf-MWSy...  \n",
       "2     http://youtube.com/channel/UCX6OQ3DkcsbYNE6H8u...  \n",
       "3     http://youtube.com/channel/UCbCmjCuTUZos6Inko4...  \n",
       "4     http://youtube.com/channel/UCpEhnqL0y41EpW2TvW...  \n",
       "5     http://youtube.com/channel/UCk8GzjMOrta8yxDcKf...  "
      ]
     },
     "execution_count": 3,
     "metadata": {},
     "output_type": "execute_result"
    }
   ],
   "source": [
    "# display first 5 rows of the data to understand how the dataset is structured.\n",
    "df_youtube.head()"
   ]
  },
  {
   "cell_type": "code",
   "execution_count": 4,
   "id": "ca362c47",
   "metadata": {},
   "outputs": [
    {
     "data": {
      "text/html": [
       "<div>\n",
       "<style scoped>\n",
       "    .dataframe tbody tr th:only-of-type {\n",
       "        vertical-align: middle;\n",
       "    }\n",
       "\n",
       "    .dataframe tbody tr th {\n",
       "        vertical-align: top;\n",
       "    }\n",
       "\n",
       "    .dataframe thead th {\n",
       "        text-align: right;\n",
       "    }\n",
       "</style>\n",
       "<table border=\"1\" class=\"dataframe\">\n",
       "  <thead>\n",
       "    <tr style=\"text-align: right;\">\n",
       "      <th></th>\n",
       "      <th>Username</th>\n",
       "      <th>Categories</th>\n",
       "      <th>Suscribers</th>\n",
       "      <th>Country</th>\n",
       "      <th>Visits</th>\n",
       "      <th>Likes</th>\n",
       "      <th>Comments</th>\n",
       "      <th>Links</th>\n",
       "    </tr>\n",
       "    <tr>\n",
       "      <th>Rank</th>\n",
       "      <th></th>\n",
       "      <th></th>\n",
       "      <th></th>\n",
       "      <th></th>\n",
       "      <th></th>\n",
       "      <th></th>\n",
       "      <th></th>\n",
       "      <th></th>\n",
       "    </tr>\n",
       "  </thead>\n",
       "  <tbody>\n",
       "    <tr>\n",
       "      <th>996</th>\n",
       "      <td>hamzymukbang</td>\n",
       "      <td>NaN</td>\n",
       "      <td>11700000.0</td>\n",
       "      <td>Estados Unidos</td>\n",
       "      <td>397400.0</td>\n",
       "      <td>14000.0</td>\n",
       "      <td>124.0</td>\n",
       "      <td>http://youtube.com/channel/UCPKNKldggioffXPkSm...</td>\n",
       "    </tr>\n",
       "    <tr>\n",
       "      <th>997</th>\n",
       "      <td>Adaahqueen</td>\n",
       "      <td>NaN</td>\n",
       "      <td>11700000.0</td>\n",
       "      <td>India</td>\n",
       "      <td>1100000.0</td>\n",
       "      <td>92500.0</td>\n",
       "      <td>164.0</td>\n",
       "      <td>http://youtube.com/channel/UCk3fFpqI5kDMf__mUP...</td>\n",
       "    </tr>\n",
       "    <tr>\n",
       "      <th>998</th>\n",
       "      <td>LittleAngelIndonesia</td>\n",
       "      <td>Música y baile</td>\n",
       "      <td>11700000.0</td>\n",
       "      <td>Unknown</td>\n",
       "      <td>211400.0</td>\n",
       "      <td>745.0</td>\n",
       "      <td>0.0</td>\n",
       "      <td>http://youtube.com/channel/UCdrHrQf0o0TO8YDntX...</td>\n",
       "    </tr>\n",
       "    <tr>\n",
       "      <th>999</th>\n",
       "      <td>PenMultiplex</td>\n",
       "      <td>NaN</td>\n",
       "      <td>11700000.0</td>\n",
       "      <td>India</td>\n",
       "      <td>14000.0</td>\n",
       "      <td>81.0</td>\n",
       "      <td>1.0</td>\n",
       "      <td>http://youtube.com/channel/UCObyBrdrtQ20BU9PxH...</td>\n",
       "    </tr>\n",
       "    <tr>\n",
       "      <th>1000</th>\n",
       "      <td>OneindiaHindi</td>\n",
       "      <td>Noticias y Política</td>\n",
       "      <td>11700000.0</td>\n",
       "      <td>India</td>\n",
       "      <td>2200.0</td>\n",
       "      <td>31.0</td>\n",
       "      <td>1.0</td>\n",
       "      <td>http://youtube.com/channel/UCOjgc1p2hJ4GZi6pQQ...</td>\n",
       "    </tr>\n",
       "  </tbody>\n",
       "</table>\n",
       "</div>"
      ],
      "text/plain": [
       "                  Username           Categories  Suscribers         Country  \\\n",
       "Rank                                                                          \n",
       "996           hamzymukbang                  NaN  11700000.0  Estados Unidos   \n",
       "997             Adaahqueen                  NaN  11700000.0           India   \n",
       "998   LittleAngelIndonesia       Música y baile  11700000.0         Unknown   \n",
       "999           PenMultiplex                  NaN  11700000.0           India   \n",
       "1000         OneindiaHindi  Noticias y Política  11700000.0           India   \n",
       "\n",
       "         Visits    Likes  Comments  \\\n",
       "Rank                                 \n",
       "996    397400.0  14000.0     124.0   \n",
       "997   1100000.0  92500.0     164.0   \n",
       "998    211400.0    745.0       0.0   \n",
       "999     14000.0     81.0       1.0   \n",
       "1000     2200.0     31.0       1.0   \n",
       "\n",
       "                                                  Links  \n",
       "Rank                                                     \n",
       "996   http://youtube.com/channel/UCPKNKldggioffXPkSm...  \n",
       "997   http://youtube.com/channel/UCk3fFpqI5kDMf__mUP...  \n",
       "998   http://youtube.com/channel/UCdrHrQf0o0TO8YDntX...  \n",
       "999   http://youtube.com/channel/UCObyBrdrtQ20BU9PxH...  \n",
       "1000  http://youtube.com/channel/UCOjgc1p2hJ4GZi6pQQ...  "
      ]
     },
     "execution_count": 4,
     "metadata": {},
     "output_type": "execute_result"
    }
   ],
   "source": [
    "# display last 5 rows of the data to understand how the dataset is structured.\n",
    "df_youtube.tail()"
   ]
  },
  {
   "cell_type": "markdown",
   "id": "df10bf56",
   "metadata": {},
   "source": [
    "### The structure of Dataset"
   ]
  },
  {
   "cell_type": "code",
   "execution_count": 5,
   "id": "583db01c",
   "metadata": {},
   "outputs": [
    {
     "data": {
      "text/plain": [
       "8000"
      ]
     },
     "execution_count": 5,
     "metadata": {},
     "output_type": "execute_result"
    }
   ],
   "source": [
    "# Get the size of the dataset\n",
    "df_youtube.size"
   ]
  },
  {
   "cell_type": "code",
   "execution_count": 6,
   "id": "2fcc72cf",
   "metadata": {},
   "outputs": [
    {
     "data": {
      "text/plain": [
       "(1000, 8)"
      ]
     },
     "execution_count": 6,
     "metadata": {},
     "output_type": "execute_result"
    }
   ],
   "source": [
    "# Get the shape of the dataset\n",
    "df_youtube.shape"
   ]
  },
  {
   "cell_type": "code",
   "execution_count": 7,
   "id": "56115875",
   "metadata": {
    "scrolled": true
   },
   "outputs": [
    {
     "name": "stdout",
     "output_type": "stream",
     "text": [
      "<class 'pandas.core.frame.DataFrame'>\n",
      "Index: 1000 entries, 1 to 1000\n",
      "Data columns (total 8 columns):\n",
      " #   Column      Non-Null Count  Dtype  \n",
      "---  ------      --------------  -----  \n",
      " 0   Username    1000 non-null   object \n",
      " 1   Categories  694 non-null    object \n",
      " 2   Suscribers  1000 non-null   float64\n",
      " 3   Country     1000 non-null   object \n",
      " 4   Visits      1000 non-null   float64\n",
      " 5   Likes       1000 non-null   float64\n",
      " 6   Comments    1000 non-null   float64\n",
      " 7   Links       1000 non-null   object \n",
      "dtypes: float64(4), object(4)\n",
      "memory usage: 70.3+ KB\n"
     ]
    }
   ],
   "source": [
    "# let display the basic information about our dataset\n",
    "df_youtube.info()"
   ]
  },
  {
   "cell_type": "code",
   "execution_count": 8,
   "id": "95f25cde",
   "metadata": {
    "scrolled": true
   },
   "outputs": [
    {
     "data": {
      "text/html": [
       "<div>\n",
       "<style scoped>\n",
       "    .dataframe tbody tr th:only-of-type {\n",
       "        vertical-align: middle;\n",
       "    }\n",
       "\n",
       "    .dataframe tbody tr th {\n",
       "        vertical-align: top;\n",
       "    }\n",
       "\n",
       "    .dataframe thead th {\n",
       "        text-align: right;\n",
       "    }\n",
       "</style>\n",
       "<table border=\"1\" class=\"dataframe\">\n",
       "  <thead>\n",
       "    <tr style=\"text-align: right;\">\n",
       "      <th></th>\n",
       "      <th>Suscribers</th>\n",
       "      <th>Visits</th>\n",
       "      <th>Likes</th>\n",
       "      <th>Comments</th>\n",
       "    </tr>\n",
       "  </thead>\n",
       "  <tbody>\n",
       "    <tr>\n",
       "      <th>count</th>\n",
       "      <td>1.000000e+03</td>\n",
       "      <td>1.000000e+03</td>\n",
       "      <td>1.000000e+03</td>\n",
       "      <td>1000.000000</td>\n",
       "    </tr>\n",
       "    <tr>\n",
       "      <th>mean</th>\n",
       "      <td>2.189440e+07</td>\n",
       "      <td>1.209446e+06</td>\n",
       "      <td>5.363259e+04</td>\n",
       "      <td>1288.768000</td>\n",
       "    </tr>\n",
       "    <tr>\n",
       "      <th>std</th>\n",
       "      <td>1.682775e+07</td>\n",
       "      <td>5.229942e+06</td>\n",
       "      <td>2.580457e+05</td>\n",
       "      <td>6778.188308</td>\n",
       "    </tr>\n",
       "    <tr>\n",
       "      <th>min</th>\n",
       "      <td>1.170000e+07</td>\n",
       "      <td>0.000000e+00</td>\n",
       "      <td>0.000000e+00</td>\n",
       "      <td>0.000000</td>\n",
       "    </tr>\n",
       "    <tr>\n",
       "      <th>25%</th>\n",
       "      <td>1.380000e+07</td>\n",
       "      <td>3.197500e+04</td>\n",
       "      <td>4.717500e+02</td>\n",
       "      <td>2.000000</td>\n",
       "    </tr>\n",
       "    <tr>\n",
       "      <th>50%</th>\n",
       "      <td>1.675000e+07</td>\n",
       "      <td>1.744500e+05</td>\n",
       "      <td>3.500000e+03</td>\n",
       "      <td>67.000000</td>\n",
       "    </tr>\n",
       "    <tr>\n",
       "      <th>75%</th>\n",
       "      <td>2.370000e+07</td>\n",
       "      <td>8.654750e+05</td>\n",
       "      <td>2.865000e+04</td>\n",
       "      <td>472.000000</td>\n",
       "    </tr>\n",
       "    <tr>\n",
       "      <th>max</th>\n",
       "      <td>2.495000e+08</td>\n",
       "      <td>1.174000e+08</td>\n",
       "      <td>5.300000e+06</td>\n",
       "      <td>154000.000000</td>\n",
       "    </tr>\n",
       "  </tbody>\n",
       "</table>\n",
       "</div>"
      ],
      "text/plain": [
       "         Suscribers        Visits         Likes       Comments\n",
       "count  1.000000e+03  1.000000e+03  1.000000e+03    1000.000000\n",
       "mean   2.189440e+07  1.209446e+06  5.363259e+04    1288.768000\n",
       "std    1.682775e+07  5.229942e+06  2.580457e+05    6778.188308\n",
       "min    1.170000e+07  0.000000e+00  0.000000e+00       0.000000\n",
       "25%    1.380000e+07  3.197500e+04  4.717500e+02       2.000000\n",
       "50%    1.675000e+07  1.744500e+05  3.500000e+03      67.000000\n",
       "75%    2.370000e+07  8.654750e+05  2.865000e+04     472.000000\n",
       "max    2.495000e+08  1.174000e+08  5.300000e+06  154000.000000"
      ]
     },
     "execution_count": 8,
     "metadata": {},
     "output_type": "execute_result"
    }
   ],
   "source": [
    "# Get descriptive statistics such as mean, standard deviation, and range of the numerical columns in the dataset.\n",
    "df_youtube.describe()"
   ]
  },
  {
   "cell_type": "markdown",
   "id": "78493f39",
   "metadata": {},
   "source": [
    "**Dataset Information**: The Dataset has 1000 rows and 8 columns.The column \"Categories\" countains 694 non-null values, this means there are about 306 values missing. "
   ]
  },
  {
   "cell_type": "markdown",
   "id": "4199631d",
   "metadata": {},
   "source": [
    "### Find missing values"
   ]
  },
  {
   "cell_type": "code",
   "execution_count": 9,
   "id": "cf39b64a",
   "metadata": {
    "scrolled": false
   },
   "outputs": [
    {
     "data": {
      "text/plain": [
       "Username        0\n",
       "Categories    306\n",
       "Suscribers      0\n",
       "Country         0\n",
       "Visits          0\n",
       "Likes           0\n",
       "Comments        0\n",
       "Links           0\n",
       "dtype: int64"
      ]
     },
     "execution_count": 9,
     "metadata": {},
     "output_type": "execute_result"
    }
   ],
   "source": [
    "#find the number of missing values in each column\n",
    "df_youtube.isnull().sum()"
   ]
  },
  {
   "cell_type": "markdown",
   "id": "a839b91d",
   "metadata": {},
   "source": [
    "### Review rows with missing values"
   ]
  },
  {
   "cell_type": "markdown",
   "id": "33f0eb4f",
   "metadata": {},
   "source": [
    "* There is only one column with missing values, which is Categories the rest of the columns has no missing values."
   ]
  },
  {
   "cell_type": "markdown",
   "id": "05e7a578",
   "metadata": {},
   "source": [
    "* Before dealing with missing values, it's important to understand the nature of the missing value/s. Display all rows with missing values from df. To do this, perform the following three steps"
   ]
  },
  {
   "cell_type": "code",
   "execution_count": 10,
   "id": "4ec5fdb9",
   "metadata": {
    "scrolled": false
   },
   "outputs": [
    {
     "data": {
      "text/html": [
       "<div>\n",
       "<style scoped>\n",
       "    .dataframe tbody tr th:only-of-type {\n",
       "        vertical-align: middle;\n",
       "    }\n",
       "\n",
       "    .dataframe tbody tr th {\n",
       "        vertical-align: top;\n",
       "    }\n",
       "\n",
       "    .dataframe thead th {\n",
       "        text-align: right;\n",
       "    }\n",
       "</style>\n",
       "<table border=\"1\" class=\"dataframe\">\n",
       "  <thead>\n",
       "    <tr style=\"text-align: right;\">\n",
       "      <th></th>\n",
       "      <th>Username</th>\n",
       "      <th>Categories</th>\n",
       "      <th>Suscribers</th>\n",
       "      <th>Country</th>\n",
       "      <th>Visits</th>\n",
       "      <th>Likes</th>\n",
       "      <th>Comments</th>\n",
       "      <th>Links</th>\n",
       "    </tr>\n",
       "    <tr>\n",
       "      <th>Rank</th>\n",
       "      <th></th>\n",
       "      <th></th>\n",
       "      <th></th>\n",
       "      <th></th>\n",
       "      <th></th>\n",
       "      <th></th>\n",
       "      <th></th>\n",
       "      <th></th>\n",
       "    </tr>\n",
       "  </thead>\n",
       "  <tbody>\n",
       "    <tr>\n",
       "      <th>1</th>\n",
       "      <td>False</td>\n",
       "      <td>False</td>\n",
       "      <td>False</td>\n",
       "      <td>False</td>\n",
       "      <td>False</td>\n",
       "      <td>False</td>\n",
       "      <td>False</td>\n",
       "      <td>False</td>\n",
       "    </tr>\n",
       "    <tr>\n",
       "      <th>2</th>\n",
       "      <td>False</td>\n",
       "      <td>False</td>\n",
       "      <td>False</td>\n",
       "      <td>False</td>\n",
       "      <td>False</td>\n",
       "      <td>False</td>\n",
       "      <td>False</td>\n",
       "      <td>False</td>\n",
       "    </tr>\n",
       "    <tr>\n",
       "      <th>3</th>\n",
       "      <td>False</td>\n",
       "      <td>False</td>\n",
       "      <td>False</td>\n",
       "      <td>False</td>\n",
       "      <td>False</td>\n",
       "      <td>False</td>\n",
       "      <td>False</td>\n",
       "      <td>False</td>\n",
       "    </tr>\n",
       "    <tr>\n",
       "      <th>4</th>\n",
       "      <td>False</td>\n",
       "      <td>True</td>\n",
       "      <td>False</td>\n",
       "      <td>False</td>\n",
       "      <td>False</td>\n",
       "      <td>False</td>\n",
       "      <td>False</td>\n",
       "      <td>False</td>\n",
       "    </tr>\n",
       "    <tr>\n",
       "      <th>5</th>\n",
       "      <td>False</td>\n",
       "      <td>False</td>\n",
       "      <td>False</td>\n",
       "      <td>False</td>\n",
       "      <td>False</td>\n",
       "      <td>False</td>\n",
       "      <td>False</td>\n",
       "      <td>False</td>\n",
       "    </tr>\n",
       "  </tbody>\n",
       "</table>\n",
       "</div>"
      ],
      "text/plain": [
       "      Username  Categories  Suscribers  Country  Visits  Likes  Comments  \\\n",
       "Rank                                                                       \n",
       "1        False       False       False    False   False  False     False   \n",
       "2        False       False       False    False   False  False     False   \n",
       "3        False       False       False    False   False  False     False   \n",
       "4        False        True       False    False   False  False     False   \n",
       "5        False       False       False    False   False  False     False   \n",
       "\n",
       "      Links  \n",
       "Rank         \n",
       "1     False  \n",
       "2     False  \n",
       "3     False  \n",
       "4     False  \n",
       "5     False  "
      ]
     },
     "execution_count": 10,
     "metadata": {},
     "output_type": "execute_result"
    }
   ],
   "source": [
    "# 1. Apply the `isna()` method to the `df_youtube` dataframe and assign back to `mask` and display the first 5 rows\n",
    "mask = df_youtube.isna()\n",
    "mask.head()"
   ]
  },
  {
   "cell_type": "markdown",
   "id": "e0b77121",
   "metadata": {},
   "source": [
    "* Apply the any() method to the Boolean dataframe you created to make a Boolean series where each element in the series represents True if a row of the dataframe contains any True values and False if any row in the dataframe contains any False values. "
   ]
  },
  {
   "cell_type": "code",
   "execution_count": 11,
   "id": "c0a3b468",
   "metadata": {
    "scrolled": true
   },
   "outputs": [
    {
     "data": {
      "text/plain": [
       "Rank\n",
       "1    False\n",
       "2    False\n",
       "3    False\n",
       "4     True\n",
       "5    False\n",
       "dtype: bool"
      ]
     },
     "execution_count": 11,
     "metadata": {},
     "output_type": "execute_result"
    }
   ],
   "source": [
    "# 2. Apply the `any()` method to `mask` and assign the results back to `mask`\n",
    "mask = mask.any(axis = 1)\n",
    "mask.head()"
   ]
  },
  {
   "cell_type": "markdown",
   "id": "2c32a732",
   "metadata": {},
   "source": [
    "* Because mask is now a series of Boolean values, we can use it as a Boolean mask. Apply the Boolean mask to the df dataframe to return a filtered dataframe containing just the rows that contain a missing value. Assign the results to a variable called missing_rows."
   ]
  },
  {
   "cell_type": "code",
   "execution_count": 12,
   "id": "8764a515",
   "metadata": {},
   "outputs": [
    {
     "data": {
      "text/html": [
       "<div>\n",
       "<style scoped>\n",
       "    .dataframe tbody tr th:only-of-type {\n",
       "        vertical-align: middle;\n",
       "    }\n",
       "\n",
       "    .dataframe tbody tr th {\n",
       "        vertical-align: top;\n",
       "    }\n",
       "\n",
       "    .dataframe thead th {\n",
       "        text-align: right;\n",
       "    }\n",
       "</style>\n",
       "<table border=\"1\" class=\"dataframe\">\n",
       "  <thead>\n",
       "    <tr style=\"text-align: right;\">\n",
       "      <th></th>\n",
       "      <th>Username</th>\n",
       "      <th>Categories</th>\n",
       "      <th>Suscribers</th>\n",
       "      <th>Country</th>\n",
       "      <th>Visits</th>\n",
       "      <th>Likes</th>\n",
       "      <th>Comments</th>\n",
       "      <th>Links</th>\n",
       "    </tr>\n",
       "    <tr>\n",
       "      <th>Rank</th>\n",
       "      <th></th>\n",
       "      <th></th>\n",
       "      <th></th>\n",
       "      <th></th>\n",
       "      <th></th>\n",
       "      <th></th>\n",
       "      <th></th>\n",
       "      <th></th>\n",
       "    </tr>\n",
       "  </thead>\n",
       "  <tbody>\n",
       "    <tr>\n",
       "      <th>4</th>\n",
       "      <td>SETIndia</td>\n",
       "      <td>NaN</td>\n",
       "      <td>162600000.0</td>\n",
       "      <td>India</td>\n",
       "      <td>15600.0</td>\n",
       "      <td>166.0</td>\n",
       "      <td>9.0</td>\n",
       "      <td>http://youtube.com/channel/UCpEhnqL0y41EpW2TvW...</td>\n",
       "    </tr>\n",
       "    <tr>\n",
       "      <th>12</th>\n",
       "      <td>GoldminesTelefilms</td>\n",
       "      <td>NaN</td>\n",
       "      <td>89700000.0</td>\n",
       "      <td>India</td>\n",
       "      <td>34600.0</td>\n",
       "      <td>421.0</td>\n",
       "      <td>13.0</td>\n",
       "      <td>http://youtube.com/channel/UCyoXW-Dse7fURq30EW...</td>\n",
       "    </tr>\n",
       "    <tr>\n",
       "      <th>17</th>\n",
       "      <td>zeetv</td>\n",
       "      <td>NaN</td>\n",
       "      <td>72500000.0</td>\n",
       "      <td>India</td>\n",
       "      <td>7300.0</td>\n",
       "      <td>144.0</td>\n",
       "      <td>1.0</td>\n",
       "      <td>http://youtube.com/channel/UCppHT7SZKKvar4Oc9J...</td>\n",
       "    </tr>\n",
       "    <tr>\n",
       "      <th>21</th>\n",
       "      <td>colorstv</td>\n",
       "      <td>NaN</td>\n",
       "      <td>66600000.0</td>\n",
       "      <td>India</td>\n",
       "      <td>14700.0</td>\n",
       "      <td>413.0</td>\n",
       "      <td>3.0</td>\n",
       "      <td>http://youtube.com/channel/UC55IWqFLDH1Xp7iu1_...</td>\n",
       "    </tr>\n",
       "    <tr>\n",
       "      <th>39</th>\n",
       "      <td>shemaroo</td>\n",
       "      <td>NaN</td>\n",
       "      <td>48800000.0</td>\n",
       "      <td>India</td>\n",
       "      <td>22600.0</td>\n",
       "      <td>163.0</td>\n",
       "      <td>7.0</td>\n",
       "      <td>http://youtube.com/channel/UCF1JIbMUs6uqoZEY1H...</td>\n",
       "    </tr>\n",
       "    <tr>\n",
       "      <th>...</th>\n",
       "      <td>...</td>\n",
       "      <td>...</td>\n",
       "      <td>...</td>\n",
       "      <td>...</td>\n",
       "      <td>...</td>\n",
       "      <td>...</td>\n",
       "      <td>...</td>\n",
       "      <td>...</td>\n",
       "    </tr>\n",
       "    <tr>\n",
       "      <th>994</th>\n",
       "      <td>RedChilliesEntertainment</td>\n",
       "      <td>NaN</td>\n",
       "      <td>11700000.0</td>\n",
       "      <td>India</td>\n",
       "      <td>848300.0</td>\n",
       "      <td>66700.0</td>\n",
       "      <td>842.0</td>\n",
       "      <td>http://youtube.com/channel/UCjJKg01HAP01xCLVhD...</td>\n",
       "    </tr>\n",
       "    <tr>\n",
       "      <th>995</th>\n",
       "      <td>VYRLOriginals</td>\n",
       "      <td>NaN</td>\n",
       "      <td>11700000.0</td>\n",
       "      <td>India</td>\n",
       "      <td>48800.0</td>\n",
       "      <td>949.0</td>\n",
       "      <td>101.0</td>\n",
       "      <td>http://youtube.com/channel/UCye6Oz0mg46S362LwA...</td>\n",
       "    </tr>\n",
       "    <tr>\n",
       "      <th>996</th>\n",
       "      <td>hamzymukbang</td>\n",
       "      <td>NaN</td>\n",
       "      <td>11700000.0</td>\n",
       "      <td>Estados Unidos</td>\n",
       "      <td>397400.0</td>\n",
       "      <td>14000.0</td>\n",
       "      <td>124.0</td>\n",
       "      <td>http://youtube.com/channel/UCPKNKldggioffXPkSm...</td>\n",
       "    </tr>\n",
       "    <tr>\n",
       "      <th>997</th>\n",
       "      <td>Adaahqueen</td>\n",
       "      <td>NaN</td>\n",
       "      <td>11700000.0</td>\n",
       "      <td>India</td>\n",
       "      <td>1100000.0</td>\n",
       "      <td>92500.0</td>\n",
       "      <td>164.0</td>\n",
       "      <td>http://youtube.com/channel/UCk3fFpqI5kDMf__mUP...</td>\n",
       "    </tr>\n",
       "    <tr>\n",
       "      <th>999</th>\n",
       "      <td>PenMultiplex</td>\n",
       "      <td>NaN</td>\n",
       "      <td>11700000.0</td>\n",
       "      <td>India</td>\n",
       "      <td>14000.0</td>\n",
       "      <td>81.0</td>\n",
       "      <td>1.0</td>\n",
       "      <td>http://youtube.com/channel/UCObyBrdrtQ20BU9PxH...</td>\n",
       "    </tr>\n",
       "  </tbody>\n",
       "</table>\n",
       "<p>306 rows × 8 columns</p>\n",
       "</div>"
      ],
      "text/plain": [
       "                      Username Categories   Suscribers         Country  \\\n",
       "Rank                                                                     \n",
       "4                     SETIndia        NaN  162600000.0           India   \n",
       "12          GoldminesTelefilms        NaN   89700000.0           India   \n",
       "17                       zeetv        NaN   72500000.0           India   \n",
       "21                    colorstv        NaN   66600000.0           India   \n",
       "39                    shemaroo        NaN   48800000.0           India   \n",
       "...                        ...        ...          ...             ...   \n",
       "994   RedChilliesEntertainment        NaN   11700000.0           India   \n",
       "995              VYRLOriginals        NaN   11700000.0           India   \n",
       "996               hamzymukbang        NaN   11700000.0  Estados Unidos   \n",
       "997                 Adaahqueen        NaN   11700000.0           India   \n",
       "999               PenMultiplex        NaN   11700000.0           India   \n",
       "\n",
       "         Visits    Likes  Comments  \\\n",
       "Rank                                 \n",
       "4       15600.0    166.0       9.0   \n",
       "12      34600.0    421.0      13.0   \n",
       "17       7300.0    144.0       1.0   \n",
       "21      14700.0    413.0       3.0   \n",
       "39      22600.0    163.0       7.0   \n",
       "...         ...      ...       ...   \n",
       "994    848300.0  66700.0     842.0   \n",
       "995     48800.0    949.0     101.0   \n",
       "996    397400.0  14000.0     124.0   \n",
       "997   1100000.0  92500.0     164.0   \n",
       "999     14000.0     81.0       1.0   \n",
       "\n",
       "                                                  Links  \n",
       "Rank                                                     \n",
       "4     http://youtube.com/channel/UCpEhnqL0y41EpW2TvW...  \n",
       "12    http://youtube.com/channel/UCyoXW-Dse7fURq30EW...  \n",
       "17    http://youtube.com/channel/UCppHT7SZKKvar4Oc9J...  \n",
       "21    http://youtube.com/channel/UC55IWqFLDH1Xp7iu1_...  \n",
       "39    http://youtube.com/channel/UCF1JIbMUs6uqoZEY1H...  \n",
       "...                                                 ...  \n",
       "994   http://youtube.com/channel/UCjJKg01HAP01xCLVhD...  \n",
       "995   http://youtube.com/channel/UCye6Oz0mg46S362LwA...  \n",
       "996   http://youtube.com/channel/UCPKNKldggioffXPkSm...  \n",
       "997   http://youtube.com/channel/UCk3fFpqI5kDMf__mUP...  \n",
       "999   http://youtube.com/channel/UCObyBrdrtQ20BU9PxH...  \n",
       "\n",
       "[306 rows x 8 columns]"
      ]
     },
     "execution_count": 12,
     "metadata": {},
     "output_type": "execute_result"
    }
   ],
   "source": [
    "# 3. Apply `mask` as a Boolean mask to `df_youtube` and assign results to `df_missing_rows`\n",
    "missing_rows = df_youtube[mask]\n",
    "missing_rows"
   ]
  },
  {
   "cell_type": "markdown",
   "id": "c974f16b",
   "metadata": {},
   "source": [
    "* I have investigated and find indeed there are 306 data entries missing in this dataset, dealing with missing data especially when is such a significant number can be tricky, usually you will have to address this with the relevant stakeholders before any further analysis. But in for now i'm going to fill the missing values with uknown values.\n"
   ]
  },
  {
   "cell_type": "markdown",
   "id": "d3f953fa",
   "metadata": {},
   "source": [
    "### Fill in missing values"
   ]
  },
  {
   "cell_type": "code",
   "execution_count": 13,
   "id": "232683e8",
   "metadata": {
    "scrolled": true
   },
   "outputs": [],
   "source": [
    "# fill in  null or missing values\n",
    "\n",
    "df_youtube['Categories'] = df_youtube['Categories'].fillna(df_youtube['Categories'].mode()[0])\n",
    "df_youtube['Country'] = df_youtube['Country'].fillna(df_youtube['Country'].mode()[0])\n",
    "\n",
    "#for Numerical Value\n",
    "df_youtube['Suscribers'] = df_youtube['Suscribers'].fillna(np.mean(pd.to_numeric(df_youtube['Suscribers'])))\n",
    "df_youtube['Visits'] = df_youtube['Visits'].fillna(np.mean(pd.to_numeric(df_youtube['Visits'])))\n",
    "df_youtube['Likes'] = df_youtube['Likes'].fillna(np.mean(pd.to_numeric(df_youtube['Likes'])))\n",
    "df_youtube['Comments'] = df_youtube['Comments'].fillna(np.mean(pd.to_numeric(df_youtube['Comments'])))\n",
    "\n"
   ]
  },
  {
   "cell_type": "code",
   "execution_count": 14,
   "id": "00bbaff6",
   "metadata": {
    "scrolled": true
   },
   "outputs": [
    {
     "data": {
      "text/plain": [
       "Username      0\n",
       "Categories    0\n",
       "Suscribers    0\n",
       "Country       0\n",
       "Visits        0\n",
       "Likes         0\n",
       "Comments      0\n",
       "Links         0\n",
       "dtype: int64"
      ]
     },
     "execution_count": 14,
     "metadata": {},
     "output_type": "execute_result"
    }
   ],
   "source": [
    "#check for if we stil have missing values\n",
    "df_youtube.isna().sum()"
   ]
  },
  {
   "cell_type": "markdown",
   "id": "7333fbfd",
   "metadata": {},
   "source": [
    "* We have filled in  all the missing values from our dataset using fillna method."
   ]
  },
  {
   "cell_type": "code",
   "execution_count": 15,
   "id": "8a8f469d",
   "metadata": {},
   "outputs": [
    {
     "data": {
      "text/plain": [
       "(1000, 8)"
      ]
     },
     "execution_count": 15,
     "metadata": {},
     "output_type": "execute_result"
    }
   ],
   "source": [
    "df_youtube.shape"
   ]
  },
  {
   "cell_type": "markdown",
   "id": "10b9fdb4",
   "metadata": {},
   "source": [
    "* In our analysis we're not going to use links column, it's not neccessary therefore we can drop this column"
   ]
  },
  {
   "cell_type": "code",
   "execution_count": 16,
   "id": "5673a249",
   "metadata": {
    "scrolled": true
   },
   "outputs": [
    {
     "data": {
      "text/html": [
       "<div>\n",
       "<style scoped>\n",
       "    .dataframe tbody tr th:only-of-type {\n",
       "        vertical-align: middle;\n",
       "    }\n",
       "\n",
       "    .dataframe tbody tr th {\n",
       "        vertical-align: top;\n",
       "    }\n",
       "\n",
       "    .dataframe thead th {\n",
       "        text-align: right;\n",
       "    }\n",
       "</style>\n",
       "<table border=\"1\" class=\"dataframe\">\n",
       "  <thead>\n",
       "    <tr style=\"text-align: right;\">\n",
       "      <th></th>\n",
       "      <th>Username</th>\n",
       "      <th>Categories</th>\n",
       "      <th>Suscribers</th>\n",
       "      <th>Country</th>\n",
       "      <th>Visits</th>\n",
       "      <th>Likes</th>\n",
       "      <th>Comments</th>\n",
       "    </tr>\n",
       "    <tr>\n",
       "      <th>Rank</th>\n",
       "      <th></th>\n",
       "      <th></th>\n",
       "      <th></th>\n",
       "      <th></th>\n",
       "      <th></th>\n",
       "      <th></th>\n",
       "      <th></th>\n",
       "    </tr>\n",
       "  </thead>\n",
       "  <tbody>\n",
       "    <tr>\n",
       "      <th>1</th>\n",
       "      <td>tseries</td>\n",
       "      <td>Música y baile</td>\n",
       "      <td>249500000.0</td>\n",
       "      <td>India</td>\n",
       "      <td>86200.0</td>\n",
       "      <td>2700.0</td>\n",
       "      <td>78.0</td>\n",
       "    </tr>\n",
       "    <tr>\n",
       "      <th>2</th>\n",
       "      <td>MrBeast</td>\n",
       "      <td>Videojuegos, Humor</td>\n",
       "      <td>183500000.0</td>\n",
       "      <td>Estados Unidos</td>\n",
       "      <td>117400000.0</td>\n",
       "      <td>5300000.0</td>\n",
       "      <td>18500.0</td>\n",
       "    </tr>\n",
       "    <tr>\n",
       "      <th>3</th>\n",
       "      <td>CoComelon</td>\n",
       "      <td>Educación</td>\n",
       "      <td>165500000.0</td>\n",
       "      <td>Unknown</td>\n",
       "      <td>7000000.0</td>\n",
       "      <td>24700.0</td>\n",
       "      <td>0.0</td>\n",
       "    </tr>\n",
       "    <tr>\n",
       "      <th>4</th>\n",
       "      <td>SETIndia</td>\n",
       "      <td>Música y baile</td>\n",
       "      <td>162600000.0</td>\n",
       "      <td>India</td>\n",
       "      <td>15600.0</td>\n",
       "      <td>166.0</td>\n",
       "      <td>9.0</td>\n",
       "    </tr>\n",
       "    <tr>\n",
       "      <th>5</th>\n",
       "      <td>KidsDianaShow</td>\n",
       "      <td>Animación, Juguetes</td>\n",
       "      <td>113500000.0</td>\n",
       "      <td>Unknown</td>\n",
       "      <td>3900000.0</td>\n",
       "      <td>12400.0</td>\n",
       "      <td>0.0</td>\n",
       "    </tr>\n",
       "  </tbody>\n",
       "</table>\n",
       "</div>"
      ],
      "text/plain": [
       "           Username           Categories   Suscribers         Country  \\\n",
       "Rank                                                                    \n",
       "1           tseries       Música y baile  249500000.0           India   \n",
       "2           MrBeast   Videojuegos, Humor  183500000.0  Estados Unidos   \n",
       "3         CoComelon            Educación  165500000.0         Unknown   \n",
       "4          SETIndia       Música y baile  162600000.0           India   \n",
       "5     KidsDianaShow  Animación, Juguetes  113500000.0         Unknown   \n",
       "\n",
       "           Visits      Likes  Comments  \n",
       "Rank                                    \n",
       "1         86200.0     2700.0      78.0  \n",
       "2     117400000.0  5300000.0   18500.0  \n",
       "3       7000000.0    24700.0       0.0  \n",
       "4         15600.0      166.0       9.0  \n",
       "5       3900000.0    12400.0       0.0  "
      ]
     },
     "execution_count": 16,
     "metadata": {},
     "output_type": "execute_result"
    }
   ],
   "source": [
    "# drop links columns from our dataset\n",
    "df = df_youtube.drop('Links', axis  =1)\n",
    "df.head()"
   ]
  },
  {
   "cell_type": "code",
   "execution_count": 17,
   "id": "a29e5891",
   "metadata": {},
   "outputs": [],
   "source": [
    "# convert the Suscribers,Visits,Likes,Comments data types to int\n",
    "df['Suscribers'] = df['Suscribers'].astype(int)\n",
    "df['Visits'] = df['Visits'].astype(int)\n",
    "df['Likes'] = df['Likes'].astype(int)\n",
    "df['Comments'] = df['Comments'].astype(int)"
   ]
  },
  {
   "cell_type": "code",
   "execution_count": 18,
   "id": "9f8351b6",
   "metadata": {},
   "outputs": [],
   "source": [
    "# rename the Suscribe to the correct spelling\n",
    "df.rename(columns = {'Suscribers': 'Subscribers'}, inplace=True)"
   ]
  },
  {
   "cell_type": "code",
   "execution_count": 19,
   "id": "0e7d14af",
   "metadata": {
    "scrolled": true
   },
   "outputs": [
    {
     "name": "stdout",
     "output_type": "stream",
     "text": [
      "<class 'pandas.core.frame.DataFrame'>\n",
      "Index: 1000 entries, 1 to 1000\n",
      "Data columns (total 7 columns):\n",
      " #   Column       Non-Null Count  Dtype \n",
      "---  ------       --------------  ----- \n",
      " 0   Username     1000 non-null   object\n",
      " 1   Categories   1000 non-null   object\n",
      " 2   Subscribers  1000 non-null   int32 \n",
      " 3   Country      1000 non-null   object\n",
      " 4   Visits       1000 non-null   int32 \n",
      " 5   Likes        1000 non-null   int32 \n",
      " 6   Comments     1000 non-null   int32 \n",
      "dtypes: int32(4), object(3)\n",
      "memory usage: 46.9+ KB\n"
     ]
    }
   ],
   "source": [
    "# check if the data types has been converted\n",
    "df.info()"
   ]
  },
  {
   "cell_type": "code",
   "execution_count": 20,
   "id": "0a26d2de",
   "metadata": {},
   "outputs": [
    {
     "data": {
      "text/html": [
       "<div>\n",
       "<style scoped>\n",
       "    .dataframe tbody tr th:only-of-type {\n",
       "        vertical-align: middle;\n",
       "    }\n",
       "\n",
       "    .dataframe tbody tr th {\n",
       "        vertical-align: top;\n",
       "    }\n",
       "\n",
       "    .dataframe thead th {\n",
       "        text-align: right;\n",
       "    }\n",
       "</style>\n",
       "<table border=\"1\" class=\"dataframe\">\n",
       "  <thead>\n",
       "    <tr style=\"text-align: right;\">\n",
       "      <th></th>\n",
       "      <th>Subscribers</th>\n",
       "      <th>Visits</th>\n",
       "      <th>Likes</th>\n",
       "      <th>Comments</th>\n",
       "    </tr>\n",
       "  </thead>\n",
       "  <tbody>\n",
       "    <tr>\n",
       "      <th>count</th>\n",
       "      <td>1.000000e+03</td>\n",
       "      <td>1.000000e+03</td>\n",
       "      <td>1.000000e+03</td>\n",
       "      <td>1000.000000</td>\n",
       "    </tr>\n",
       "    <tr>\n",
       "      <th>mean</th>\n",
       "      <td>2.189440e+07</td>\n",
       "      <td>1.209446e+06</td>\n",
       "      <td>5.363259e+04</td>\n",
       "      <td>1288.768000</td>\n",
       "    </tr>\n",
       "    <tr>\n",
       "      <th>std</th>\n",
       "      <td>1.682775e+07</td>\n",
       "      <td>5.229942e+06</td>\n",
       "      <td>2.580457e+05</td>\n",
       "      <td>6778.188308</td>\n",
       "    </tr>\n",
       "    <tr>\n",
       "      <th>min</th>\n",
       "      <td>1.170000e+07</td>\n",
       "      <td>0.000000e+00</td>\n",
       "      <td>0.000000e+00</td>\n",
       "      <td>0.000000</td>\n",
       "    </tr>\n",
       "    <tr>\n",
       "      <th>25%</th>\n",
       "      <td>1.380000e+07</td>\n",
       "      <td>3.197500e+04</td>\n",
       "      <td>4.717500e+02</td>\n",
       "      <td>2.000000</td>\n",
       "    </tr>\n",
       "    <tr>\n",
       "      <th>50%</th>\n",
       "      <td>1.675000e+07</td>\n",
       "      <td>1.744500e+05</td>\n",
       "      <td>3.500000e+03</td>\n",
       "      <td>67.000000</td>\n",
       "    </tr>\n",
       "    <tr>\n",
       "      <th>75%</th>\n",
       "      <td>2.370000e+07</td>\n",
       "      <td>8.654750e+05</td>\n",
       "      <td>2.865000e+04</td>\n",
       "      <td>472.000000</td>\n",
       "    </tr>\n",
       "    <tr>\n",
       "      <th>max</th>\n",
       "      <td>2.495000e+08</td>\n",
       "      <td>1.174000e+08</td>\n",
       "      <td>5.300000e+06</td>\n",
       "      <td>154000.000000</td>\n",
       "    </tr>\n",
       "  </tbody>\n",
       "</table>\n",
       "</div>"
      ],
      "text/plain": [
       "        Subscribers        Visits         Likes       Comments\n",
       "count  1.000000e+03  1.000000e+03  1.000000e+03    1000.000000\n",
       "mean   2.189440e+07  1.209446e+06  5.363259e+04    1288.768000\n",
       "std    1.682775e+07  5.229942e+06  2.580457e+05    6778.188308\n",
       "min    1.170000e+07  0.000000e+00  0.000000e+00       0.000000\n",
       "25%    1.380000e+07  3.197500e+04  4.717500e+02       2.000000\n",
       "50%    1.675000e+07  1.744500e+05  3.500000e+03      67.000000\n",
       "75%    2.370000e+07  8.654750e+05  2.865000e+04     472.000000\n",
       "max    2.495000e+08  1.174000e+08  5.300000e+06  154000.000000"
      ]
     },
     "execution_count": 20,
     "metadata": {},
     "output_type": "execute_result"
    }
   ],
   "source": [
    "df.describe()"
   ]
  },
  {
   "cell_type": "code",
   "execution_count": 21,
   "id": "9fdf4ebd",
   "metadata": {
    "scrolled": false
   },
   "outputs": [
    {
     "name": "stdout",
     "output_type": "stream",
     "text": [
      "             Subscribers    Visits     Likes  Comments\n",
      "Subscribers     1.000000  0.245203  0.211639  0.036350\n",
      "Visits          0.245203  1.000000  0.950470  0.324067\n",
      "Likes           0.211639  0.950470  1.000000  0.325911\n",
      "Comments        0.036350  0.324067  0.325911  1.000000\n"
     ]
    },
    {
     "data": {
      "text/plain": [
       "<Figure size 1300x700 with 0 Axes>"
      ]
     },
     "metadata": {},
     "output_type": "display_data"
    }
   ],
   "source": [
    "# find the correlation  to understand the relationship between the variables, how the each variable interact with each other\n",
    "plt.figure(figsize = (13, 7))\n",
    "correlation = df.corr(numeric_only = True)\n",
    "#sns.heatmap(correlation, annot = True, cmap = 'Blues')\n",
    "print(correlation)\n"
   ]
  },
  {
   "cell_type": "markdown",
   "id": "44e7e23f",
   "metadata": {},
   "source": [
    "* From our correlation findings, its easy to note the strong positive correlation relationship between visits and likes, this means thats as the number of streams(visits), likewise the Likes encreases as well.\n",
    "\n",
    "* The relationship between comments and Subcribers is very low or neutral "
   ]
  },
  {
   "cell_type": "markdown",
   "id": "84d3bd5d",
   "metadata": {},
   "source": [
    "## Hangling outliers "
   ]
  },
  {
   "cell_type": "code",
   "execution_count": 22,
   "id": "e2a02286",
   "metadata": {
    "scrolled": false
   },
   "outputs": [
    {
     "data": {
      "image/png": "[encoded data removed]",
      "text/plain": [
       "<Figure size 1500x200 with 4 Axes>"
      ]
     },
     "metadata": {},
     "output_type": "display_data"
    }
   ],
   "source": [
    "# check for outliers\n",
    "fig, axes = plt.subplots(1, 4, figsize=(15, 2))\n",
    "fig.suptitle('Boxplots for outlier detection')\n",
    "sns.boxplot(ax=axes[0], x=df['Subscribers'])\n",
    "sns.boxplot(ax=axes[1], x=df['Visits'])\n",
    "sns.boxplot(ax=axes[2], x=df['Likes'])\n",
    "sns.boxplot(ax=axes[3], x=df['Comments'])\n",
    "sns.boxplot\n",
    "plt.show();"
   ]
  },
  {
   "cell_type": "markdown",
   "id": "f05e71fc",
   "metadata": {},
   "source": [
    "* All three variables contains outliers. Some are extreme(such as subscribers) but otheres not so much."
   ]
  },
  {
   "cell_type": "code",
   "execution_count": 23,
   "id": "6b54152f",
   "metadata": {},
   "outputs": [
    {
     "data": {
      "image/png": "[encoded data removed]",
      "text/plain": [
       "<Figure size 1000x600 with 1 Axes>"
      ]
     },
     "metadata": {},
     "output_type": "display_data"
    }
   ],
   "source": [
    "plt.figure(figsize = (10,6))\n",
    "plt.title('Distribution of Subscribers')\n",
    "sns.histplot(x =df['Subscribers'], kde =True)\n",
    "plt.show()"
   ]
  },
  {
   "cell_type": "code",
   "execution_count": 24,
   "id": "758eba36",
   "metadata": {},
   "outputs": [
    {
     "data": {
      "text/html": [
       "<div>\n",
       "<style scoped>\n",
       "    .dataframe tbody tr th:only-of-type {\n",
       "        vertical-align: middle;\n",
       "    }\n",
       "\n",
       "    .dataframe tbody tr th {\n",
       "        vertical-align: top;\n",
       "    }\n",
       "\n",
       "    .dataframe thead th {\n",
       "        text-align: right;\n",
       "    }\n",
       "</style>\n",
       "<table border=\"1\" class=\"dataframe\">\n",
       "  <thead>\n",
       "    <tr style=\"text-align: right;\">\n",
       "      <th></th>\n",
       "      <th>Username</th>\n",
       "      <th>Categories</th>\n",
       "      <th>Subscribers</th>\n",
       "      <th>Country</th>\n",
       "      <th>Visits</th>\n",
       "      <th>Likes</th>\n",
       "      <th>Comments</th>\n",
       "    </tr>\n",
       "    <tr>\n",
       "      <th>Rank</th>\n",
       "      <th></th>\n",
       "      <th></th>\n",
       "      <th></th>\n",
       "      <th></th>\n",
       "      <th></th>\n",
       "      <th></th>\n",
       "      <th></th>\n",
       "    </tr>\n",
       "  </thead>\n",
       "  <tbody>\n",
       "    <tr>\n",
       "      <th>1</th>\n",
       "      <td>tseries</td>\n",
       "      <td>Música y baile</td>\n",
       "      <td>249500000</td>\n",
       "      <td>India</td>\n",
       "      <td>86200</td>\n",
       "      <td>2700</td>\n",
       "      <td>78</td>\n",
       "    </tr>\n",
       "    <tr>\n",
       "      <th>2</th>\n",
       "      <td>MrBeast</td>\n",
       "      <td>Videojuegos, Humor</td>\n",
       "      <td>183500000</td>\n",
       "      <td>Estados Unidos</td>\n",
       "      <td>117400000</td>\n",
       "      <td>5300000</td>\n",
       "      <td>18500</td>\n",
       "    </tr>\n",
       "    <tr>\n",
       "      <th>3</th>\n",
       "      <td>CoComelon</td>\n",
       "      <td>Educación</td>\n",
       "      <td>165500000</td>\n",
       "      <td>Unknown</td>\n",
       "      <td>7000000</td>\n",
       "      <td>24700</td>\n",
       "      <td>0</td>\n",
       "    </tr>\n",
       "    <tr>\n",
       "      <th>4</th>\n",
       "      <td>SETIndia</td>\n",
       "      <td>Música y baile</td>\n",
       "      <td>162600000</td>\n",
       "      <td>India</td>\n",
       "      <td>15600</td>\n",
       "      <td>166</td>\n",
       "      <td>9</td>\n",
       "    </tr>\n",
       "    <tr>\n",
       "      <th>5</th>\n",
       "      <td>KidsDianaShow</td>\n",
       "      <td>Animación, Juguetes</td>\n",
       "      <td>113500000</td>\n",
       "      <td>Unknown</td>\n",
       "      <td>3900000</td>\n",
       "      <td>12400</td>\n",
       "      <td>0</td>\n",
       "    </tr>\n",
       "    <tr>\n",
       "      <th>...</th>\n",
       "      <td>...</td>\n",
       "      <td>...</td>\n",
       "      <td>...</td>\n",
       "      <td>...</td>\n",
       "      <td>...</td>\n",
       "      <td>...</td>\n",
       "      <td>...</td>\n",
       "    </tr>\n",
       "    <tr>\n",
       "      <th>996</th>\n",
       "      <td>hamzymukbang</td>\n",
       "      <td>Música y baile</td>\n",
       "      <td>11700000</td>\n",
       "      <td>Estados Unidos</td>\n",
       "      <td>397400</td>\n",
       "      <td>14000</td>\n",
       "      <td>124</td>\n",
       "    </tr>\n",
       "    <tr>\n",
       "      <th>997</th>\n",
       "      <td>Adaahqueen</td>\n",
       "      <td>Música y baile</td>\n",
       "      <td>11700000</td>\n",
       "      <td>India</td>\n",
       "      <td>1100000</td>\n",
       "      <td>92500</td>\n",
       "      <td>164</td>\n",
       "    </tr>\n",
       "    <tr>\n",
       "      <th>998</th>\n",
       "      <td>LittleAngelIndonesia</td>\n",
       "      <td>Música y baile</td>\n",
       "      <td>11700000</td>\n",
       "      <td>Unknown</td>\n",
       "      <td>211400</td>\n",
       "      <td>745</td>\n",
       "      <td>0</td>\n",
       "    </tr>\n",
       "    <tr>\n",
       "      <th>999</th>\n",
       "      <td>PenMultiplex</td>\n",
       "      <td>Música y baile</td>\n",
       "      <td>11700000</td>\n",
       "      <td>India</td>\n",
       "      <td>14000</td>\n",
       "      <td>81</td>\n",
       "      <td>1</td>\n",
       "    </tr>\n",
       "    <tr>\n",
       "      <th>1000</th>\n",
       "      <td>OneindiaHindi</td>\n",
       "      <td>Noticias y Política</td>\n",
       "      <td>11700000</td>\n",
       "      <td>India</td>\n",
       "      <td>2200</td>\n",
       "      <td>31</td>\n",
       "      <td>1</td>\n",
       "    </tr>\n",
       "  </tbody>\n",
       "</table>\n",
       "<p>1000 rows × 7 columns</p>\n",
       "</div>"
      ],
      "text/plain": [
       "                  Username           Categories  Subscribers         Country  \\\n",
       "Rank                                                                           \n",
       "1                  tseries       Música y baile    249500000           India   \n",
       "2                  MrBeast   Videojuegos, Humor    183500000  Estados Unidos   \n",
       "3                CoComelon            Educación    165500000         Unknown   \n",
       "4                 SETIndia       Música y baile    162600000           India   \n",
       "5            KidsDianaShow  Animación, Juguetes    113500000         Unknown   \n",
       "...                    ...                  ...          ...             ...   \n",
       "996           hamzymukbang       Música y baile     11700000  Estados Unidos   \n",
       "997             Adaahqueen       Música y baile     11700000           India   \n",
       "998   LittleAngelIndonesia       Música y baile     11700000         Unknown   \n",
       "999           PenMultiplex       Música y baile     11700000           India   \n",
       "1000         OneindiaHindi  Noticias y Política     11700000           India   \n",
       "\n",
       "         Visits    Likes  Comments  \n",
       "Rank                                \n",
       "1         86200     2700        78  \n",
       "2     117400000  5300000     18500  \n",
       "3       7000000    24700         0  \n",
       "4         15600      166         9  \n",
       "5       3900000    12400         0  \n",
       "...         ...      ...       ...  \n",
       "996      397400    14000       124  \n",
       "997     1100000    92500       164  \n",
       "998      211400      745         0  \n",
       "999       14000       81         1  \n",
       "1000       2200       31         1  \n",
       "\n",
       "[1000 rows x 7 columns]"
      ]
     },
     "execution_count": 24,
     "metadata": {},
     "output_type": "execute_result"
    }
   ],
   "source": [
    "df"
   ]
  },
  {
   "cell_type": "markdown",
   "id": "4d8efef9",
   "metadata": {},
   "source": [
    "### If we were to remove the outlier, this is how we were going to go about it:"
   ]
  },
  {
   "cell_type": "code",
   "execution_count": 25,
   "id": "04a53937",
   "metadata": {},
   "outputs": [
    {
     "name": "stdout",
     "output_type": "stream",
     "text": [
      "Upper Limit: 72377658.168\n",
      "Upper Limit: -28588858.194\n"
     ]
    }
   ],
   "source": [
    "# find the upper limit and the lower limit\n",
    "upper_limit = df['Subscribers'].mean() + 3*df['Subscribers'].std()\n",
    "lower_limit = df['Subscribers'].mean() - 3*df['Subscribers'].std()\n",
    "\n",
    "print(f'Upper Limit: {upper_limit:.3f}')\n",
    "print(f'Upper Limit: {lower_limit:.3f}')"
   ]
  },
  {
   "cell_type": "code",
   "execution_count": 26,
   "id": "39f07d1d",
   "metadata": {
    "scrolled": false
   },
   "outputs": [
    {
     "data": {
      "text/html": [
       "<div>\n",
       "<style scoped>\n",
       "    .dataframe tbody tr th:only-of-type {\n",
       "        vertical-align: middle;\n",
       "    }\n",
       "\n",
       "    .dataframe tbody tr th {\n",
       "        vertical-align: top;\n",
       "    }\n",
       "\n",
       "    .dataframe thead th {\n",
       "        text-align: right;\n",
       "    }\n",
       "</style>\n",
       "<table border=\"1\" class=\"dataframe\">\n",
       "  <thead>\n",
       "    <tr style=\"text-align: right;\">\n",
       "      <th></th>\n",
       "      <th>Username</th>\n",
       "      <th>Categories</th>\n",
       "      <th>Subscribers</th>\n",
       "      <th>Country</th>\n",
       "      <th>Visits</th>\n",
       "      <th>Likes</th>\n",
       "      <th>Comments</th>\n",
       "    </tr>\n",
       "    <tr>\n",
       "      <th>Rank</th>\n",
       "      <th></th>\n",
       "      <th></th>\n",
       "      <th></th>\n",
       "      <th></th>\n",
       "      <th></th>\n",
       "      <th></th>\n",
       "      <th></th>\n",
       "    </tr>\n",
       "  </thead>\n",
       "  <tbody>\n",
       "    <tr>\n",
       "      <th>1</th>\n",
       "      <td>tseries</td>\n",
       "      <td>Música y baile</td>\n",
       "      <td>249500000</td>\n",
       "      <td>India</td>\n",
       "      <td>86200</td>\n",
       "      <td>2700</td>\n",
       "      <td>78</td>\n",
       "    </tr>\n",
       "    <tr>\n",
       "      <th>2</th>\n",
       "      <td>MrBeast</td>\n",
       "      <td>Videojuegos, Humor</td>\n",
       "      <td>183500000</td>\n",
       "      <td>Estados Unidos</td>\n",
       "      <td>117400000</td>\n",
       "      <td>5300000</td>\n",
       "      <td>18500</td>\n",
       "    </tr>\n",
       "    <tr>\n",
       "      <th>3</th>\n",
       "      <td>CoComelon</td>\n",
       "      <td>Educación</td>\n",
       "      <td>165500000</td>\n",
       "      <td>Unknown</td>\n",
       "      <td>7000000</td>\n",
       "      <td>24700</td>\n",
       "      <td>0</td>\n",
       "    </tr>\n",
       "    <tr>\n",
       "      <th>4</th>\n",
       "      <td>SETIndia</td>\n",
       "      <td>Música y baile</td>\n",
       "      <td>162600000</td>\n",
       "      <td>India</td>\n",
       "      <td>15600</td>\n",
       "      <td>166</td>\n",
       "      <td>9</td>\n",
       "    </tr>\n",
       "    <tr>\n",
       "      <th>5</th>\n",
       "      <td>KidsDianaShow</td>\n",
       "      <td>Animación, Juguetes</td>\n",
       "      <td>113500000</td>\n",
       "      <td>Unknown</td>\n",
       "      <td>3900000</td>\n",
       "      <td>12400</td>\n",
       "      <td>0</td>\n",
       "    </tr>\n",
       "    <tr>\n",
       "      <th>6</th>\n",
       "      <td>PewDiePie</td>\n",
       "      <td>Películas, Videojuegos</td>\n",
       "      <td>111500000</td>\n",
       "      <td>Estados Unidos</td>\n",
       "      <td>2400000</td>\n",
       "      <td>197300</td>\n",
       "      <td>4900</td>\n",
       "    </tr>\n",
       "    <tr>\n",
       "      <th>7</th>\n",
       "      <td>LikeNastyaofficial</td>\n",
       "      <td>Juguetes</td>\n",
       "      <td>107500000</td>\n",
       "      <td>Unknown</td>\n",
       "      <td>2600000</td>\n",
       "      <td>28000</td>\n",
       "      <td>0</td>\n",
       "    </tr>\n",
       "    <tr>\n",
       "      <th>8</th>\n",
       "      <td>VladandNiki</td>\n",
       "      <td>Animación, Juguetes</td>\n",
       "      <td>101400000</td>\n",
       "      <td>Unknown</td>\n",
       "      <td>4100000</td>\n",
       "      <td>22100</td>\n",
       "      <td>0</td>\n",
       "    </tr>\n",
       "    <tr>\n",
       "      <th>9</th>\n",
       "      <td>zeemusiccompany</td>\n",
       "      <td>Música y baile</td>\n",
       "      <td>99700000</td>\n",
       "      <td>India</td>\n",
       "      <td>74300</td>\n",
       "      <td>2600</td>\n",
       "      <td>32</td>\n",
       "    </tr>\n",
       "    <tr>\n",
       "      <th>10</th>\n",
       "      <td>WWE</td>\n",
       "      <td>Videojuegos</td>\n",
       "      <td>97200000</td>\n",
       "      <td>Estados Unidos</td>\n",
       "      <td>184500</td>\n",
       "      <td>6300</td>\n",
       "      <td>214</td>\n",
       "    </tr>\n",
       "    <tr>\n",
       "      <th>11</th>\n",
       "      <td>BLACKPINK</td>\n",
       "      <td>Música y baile</td>\n",
       "      <td>91300000</td>\n",
       "      <td>Estados Unidos</td>\n",
       "      <td>863200</td>\n",
       "      <td>146900</td>\n",
       "      <td>3400</td>\n",
       "    </tr>\n",
       "    <tr>\n",
       "      <th>12</th>\n",
       "      <td>GoldminesTelefilms</td>\n",
       "      <td>Música y baile</td>\n",
       "      <td>89700000</td>\n",
       "      <td>India</td>\n",
       "      <td>34600</td>\n",
       "      <td>421</td>\n",
       "      <td>13</td>\n",
       "    </tr>\n",
       "    <tr>\n",
       "      <th>13</th>\n",
       "      <td>SonySAB</td>\n",
       "      <td>Películas, Animación</td>\n",
       "      <td>85400000</td>\n",
       "      <td>India</td>\n",
       "      <td>35500</td>\n",
       "      <td>615</td>\n",
       "      <td>21</td>\n",
       "    </tr>\n",
       "    <tr>\n",
       "      <th>14</th>\n",
       "      <td>5MinuteCraftsYouTube</td>\n",
       "      <td>Películas</td>\n",
       "      <td>80300000</td>\n",
       "      <td>India</td>\n",
       "      <td>164600</td>\n",
       "      <td>703</td>\n",
       "      <td>35</td>\n",
       "    </tr>\n",
       "    <tr>\n",
       "      <th>15</th>\n",
       "      <td>BTS</td>\n",
       "      <td>Música y baile</td>\n",
       "      <td>76500000</td>\n",
       "      <td>India</td>\n",
       "      <td>969700</td>\n",
       "      <td>180300</td>\n",
       "      <td>7400</td>\n",
       "    </tr>\n",
       "    <tr>\n",
       "      <th>16</th>\n",
       "      <td>HYBELABELS</td>\n",
       "      <td>Música y baile</td>\n",
       "      <td>72700000</td>\n",
       "      <td>Estados Unidos</td>\n",
       "      <td>440700</td>\n",
       "      <td>23900</td>\n",
       "      <td>932</td>\n",
       "    </tr>\n",
       "    <tr>\n",
       "      <th>17</th>\n",
       "      <td>zeetv</td>\n",
       "      <td>Música y baile</td>\n",
       "      <td>72500000</td>\n",
       "      <td>India</td>\n",
       "      <td>7300</td>\n",
       "      <td>144</td>\n",
       "      <td>1</td>\n",
       "    </tr>\n",
       "  </tbody>\n",
       "</table>\n",
       "</div>"
      ],
      "text/plain": [
       "                  Username              Categories  Subscribers  \\\n",
       "Rank                                                              \n",
       "1                  tseries          Música y baile    249500000   \n",
       "2                  MrBeast      Videojuegos, Humor    183500000   \n",
       "3                CoComelon               Educación    165500000   \n",
       "4                 SETIndia          Música y baile    162600000   \n",
       "5            KidsDianaShow     Animación, Juguetes    113500000   \n",
       "6                PewDiePie  Películas, Videojuegos    111500000   \n",
       "7       LikeNastyaofficial                Juguetes    107500000   \n",
       "8              VladandNiki     Animación, Juguetes    101400000   \n",
       "9          zeemusiccompany          Música y baile     99700000   \n",
       "10                     WWE             Videojuegos     97200000   \n",
       "11               BLACKPINK          Música y baile     91300000   \n",
       "12      GoldminesTelefilms          Música y baile     89700000   \n",
       "13                 SonySAB    Películas, Animación     85400000   \n",
       "14    5MinuteCraftsYouTube               Películas     80300000   \n",
       "15                     BTS          Música y baile     76500000   \n",
       "16              HYBELABELS          Música y baile     72700000   \n",
       "17                   zeetv          Música y baile     72500000   \n",
       "\n",
       "             Country     Visits    Likes  Comments  \n",
       "Rank                                                \n",
       "1              India      86200     2700        78  \n",
       "2     Estados Unidos  117400000  5300000     18500  \n",
       "3            Unknown    7000000    24700         0  \n",
       "4              India      15600      166         9  \n",
       "5            Unknown    3900000    12400         0  \n",
       "6     Estados Unidos    2400000   197300      4900  \n",
       "7            Unknown    2600000    28000         0  \n",
       "8            Unknown    4100000    22100         0  \n",
       "9              India      74300     2600        32  \n",
       "10    Estados Unidos     184500     6300       214  \n",
       "11    Estados Unidos     863200   146900      3400  \n",
       "12             India      34600      421        13  \n",
       "13             India      35500      615        21  \n",
       "14             India     164600      703        35  \n",
       "15             India     969700   180300      7400  \n",
       "16    Estados Unidos     440700    23900       932  \n",
       "17             India       7300      144         1  "
      ]
     },
     "execution_count": 26,
     "metadata": {},
     "output_type": "execute_result"
    }
   ],
   "source": [
    "\n",
    "df.loc[(df['Subscribers'] > upper_limit ) | (df['Subscribers']< lower_limit)]"
   ]
  },
  {
   "cell_type": "code",
   "execution_count": 27,
   "id": "bac8c67a",
   "metadata": {
    "scrolled": false
   },
   "outputs": [
    {
     "data": {
      "text/html": [
       "<div>\n",
       "<style scoped>\n",
       "    .dataframe tbody tr th:only-of-type {\n",
       "        vertical-align: middle;\n",
       "    }\n",
       "\n",
       "    .dataframe tbody tr th {\n",
       "        vertical-align: top;\n",
       "    }\n",
       "\n",
       "    .dataframe thead th {\n",
       "        text-align: right;\n",
       "    }\n",
       "</style>\n",
       "<table border=\"1\" class=\"dataframe\">\n",
       "  <thead>\n",
       "    <tr style=\"text-align: right;\">\n",
       "      <th></th>\n",
       "      <th>Username</th>\n",
       "      <th>Categories</th>\n",
       "      <th>Subscribers</th>\n",
       "      <th>Country</th>\n",
       "      <th>Visits</th>\n",
       "      <th>Likes</th>\n",
       "      <th>Comments</th>\n",
       "    </tr>\n",
       "    <tr>\n",
       "      <th>Rank</th>\n",
       "      <th></th>\n",
       "      <th></th>\n",
       "      <th></th>\n",
       "      <th></th>\n",
       "      <th></th>\n",
       "      <th></th>\n",
       "      <th></th>\n",
       "    </tr>\n",
       "  </thead>\n",
       "  <tbody>\n",
       "    <tr>\n",
       "      <th>18</th>\n",
       "      <td>Pinkfong</td>\n",
       "      <td>Animación, Juguetes</td>\n",
       "      <td>69600000</td>\n",
       "      <td>Unknown</td>\n",
       "      <td>506400</td>\n",
       "      <td>397</td>\n",
       "      <td>0</td>\n",
       "    </tr>\n",
       "    <tr>\n",
       "      <th>19</th>\n",
       "      <td>ChuChuTV</td>\n",
       "      <td>Juguetes</td>\n",
       "      <td>67500000</td>\n",
       "      <td>Unknown</td>\n",
       "      <td>652100</td>\n",
       "      <td>17800</td>\n",
       "      <td>0</td>\n",
       "    </tr>\n",
       "    <tr>\n",
       "      <th>20</th>\n",
       "      <td>KondZilla</td>\n",
       "      <td>Música y baile</td>\n",
       "      <td>66599999</td>\n",
       "      <td>Brasil</td>\n",
       "      <td>30400</td>\n",
       "      <td>1100</td>\n",
       "      <td>4</td>\n",
       "    </tr>\n",
       "    <tr>\n",
       "      <th>21</th>\n",
       "      <td>colorstv</td>\n",
       "      <td>Música y baile</td>\n",
       "      <td>66599999</td>\n",
       "      <td>India</td>\n",
       "      <td>14700</td>\n",
       "      <td>413</td>\n",
       "      <td>3</td>\n",
       "    </tr>\n",
       "    <tr>\n",
       "      <th>22</th>\n",
       "      <td>filmigaane</td>\n",
       "      <td>Música y baile</td>\n",
       "      <td>66400000</td>\n",
       "      <td>India</td>\n",
       "      <td>33000</td>\n",
       "      <td>392</td>\n",
       "      <td>18</td>\n",
       "    </tr>\n",
       "    <tr>\n",
       "      <th>...</th>\n",
       "      <td>...</td>\n",
       "      <td>...</td>\n",
       "      <td>...</td>\n",
       "      <td>...</td>\n",
       "      <td>...</td>\n",
       "      <td>...</td>\n",
       "      <td>...</td>\n",
       "    </tr>\n",
       "    <tr>\n",
       "      <th>996</th>\n",
       "      <td>hamzymukbang</td>\n",
       "      <td>Música y baile</td>\n",
       "      <td>11700000</td>\n",
       "      <td>Estados Unidos</td>\n",
       "      <td>397400</td>\n",
       "      <td>14000</td>\n",
       "      <td>124</td>\n",
       "    </tr>\n",
       "    <tr>\n",
       "      <th>997</th>\n",
       "      <td>Adaahqueen</td>\n",
       "      <td>Música y baile</td>\n",
       "      <td>11700000</td>\n",
       "      <td>India</td>\n",
       "      <td>1100000</td>\n",
       "      <td>92500</td>\n",
       "      <td>164</td>\n",
       "    </tr>\n",
       "    <tr>\n",
       "      <th>998</th>\n",
       "      <td>LittleAngelIndonesia</td>\n",
       "      <td>Música y baile</td>\n",
       "      <td>11700000</td>\n",
       "      <td>Unknown</td>\n",
       "      <td>211400</td>\n",
       "      <td>745</td>\n",
       "      <td>0</td>\n",
       "    </tr>\n",
       "    <tr>\n",
       "      <th>999</th>\n",
       "      <td>PenMultiplex</td>\n",
       "      <td>Música y baile</td>\n",
       "      <td>11700000</td>\n",
       "      <td>India</td>\n",
       "      <td>14000</td>\n",
       "      <td>81</td>\n",
       "      <td>1</td>\n",
       "    </tr>\n",
       "    <tr>\n",
       "      <th>1000</th>\n",
       "      <td>OneindiaHindi</td>\n",
       "      <td>Noticias y Política</td>\n",
       "      <td>11700000</td>\n",
       "      <td>India</td>\n",
       "      <td>2200</td>\n",
       "      <td>31</td>\n",
       "      <td>1</td>\n",
       "    </tr>\n",
       "  </tbody>\n",
       "</table>\n",
       "<p>983 rows × 7 columns</p>\n",
       "</div>"
      ],
      "text/plain": [
       "                  Username           Categories  Subscribers         Country  \\\n",
       "Rank                                                                           \n",
       "18                Pinkfong  Animación, Juguetes     69600000         Unknown   \n",
       "19                ChuChuTV             Juguetes     67500000         Unknown   \n",
       "20               KondZilla       Música y baile     66599999          Brasil   \n",
       "21                colorstv       Música y baile     66599999           India   \n",
       "22              filmigaane       Música y baile     66400000           India   \n",
       "...                    ...                  ...          ...             ...   \n",
       "996           hamzymukbang       Música y baile     11700000  Estados Unidos   \n",
       "997             Adaahqueen       Música y baile     11700000           India   \n",
       "998   LittleAngelIndonesia       Música y baile     11700000         Unknown   \n",
       "999           PenMultiplex       Música y baile     11700000           India   \n",
       "1000         OneindiaHindi  Noticias y Política     11700000           India   \n",
       "\n",
       "       Visits  Likes  Comments  \n",
       "Rank                            \n",
       "18     506400    397         0  \n",
       "19     652100  17800         0  \n",
       "20      30400   1100         4  \n",
       "21      14700    413         3  \n",
       "22      33000    392        18  \n",
       "...       ...    ...       ...  \n",
       "996    397400  14000       124  \n",
       "997   1100000  92500       164  \n",
       "998    211400    745         0  \n",
       "999     14000     81         1  \n",
       "1000     2200     31         1  \n",
       "\n",
       "[983 rows x 7 columns]"
      ]
     },
     "execution_count": 27,
     "metadata": {},
     "output_type": "execute_result"
    }
   ],
   "source": [
    "New_Data = df.loc[(df['Subscribers'] <upper_limit) & (df['Subscribers']>=lower_limit)]\n",
    "New_Data"
   ]
  },
  {
   "cell_type": "markdown",
   "id": "bdf9ad17",
   "metadata": {},
   "source": [
    "* Now that we have identified outliers in our dataset, we can either cap or drop the outliers, but for now we just gonna leave them like that.\n",
    "* If we had dropped our outliers, we would be left with 983 Rows and 7 Columns"
   ]
  },
  {
   "cell_type": "markdown",
   "id": "cf6dbdef",
   "metadata": {},
   "source": []
  },
  {
   "cell_type": "code",
   "execution_count": 28,
   "id": "488e19c3",
   "metadata": {},
   "outputs": [
    {
     "name": "stdout",
     "output_type": "stream",
     "text": [
      "Old Data Set lenghth:  983\n"
     ]
    }
   ],
   "source": [
    "print('Old Data Set lenghth: ', len(New_Data))"
   ]
  },
  {
   "cell_type": "code",
   "execution_count": 29,
   "id": "5e84358c",
   "metadata": {
    "scrolled": true
   },
   "outputs": [
    {
     "name": "stdout",
     "output_type": "stream",
     "text": [
      "New Data Set lenghth:  1000\n"
     ]
    }
   ],
   "source": [
    "print('New Data Set lenghth: ', len(df))"
   ]
  },
  {
   "cell_type": "code",
   "execution_count": 30,
   "id": "73884a04",
   "metadata": {
    "scrolled": true
   },
   "outputs": [
    {
     "data": {
      "text/plain": [
       "7000"
      ]
     },
     "execution_count": 30,
     "metadata": {},
     "output_type": "execute_result"
    }
   ],
   "source": [
    "df.size"
   ]
  },
  {
   "cell_type": "code",
   "execution_count": 31,
   "id": "07fa62e9",
   "metadata": {},
   "outputs": [
    {
     "data": {
      "text/plain": [
       "6881"
      ]
     },
     "execution_count": 31,
     "metadata": {},
     "output_type": "execute_result"
    }
   ],
   "source": [
    "New_Data.size"
   ]
  },
  {
   "cell_type": "code",
   "execution_count": 32,
   "id": "ebe829b6",
   "metadata": {},
   "outputs": [
    {
     "data": {
      "text/plain": [
       "249500000"
      ]
     },
     "execution_count": 32,
     "metadata": {},
     "output_type": "execute_result"
    }
   ],
   "source": [
    "df['Subscribers'].max()"
   ]
  },
  {
   "cell_type": "code",
   "execution_count": 33,
   "id": "5a51416f",
   "metadata": {},
   "outputs": [
    {
     "ename": "KeyError",
     "evalue": "'Suscribers'",
     "output_type": "error",
     "traceback": [
      "\u001b[1;31m---------------------------------------------------------------------------\u001b[0m",
      "\u001b[1;31mKeyError\u001b[0m                                  Traceback (most recent call last)",
      "File \u001b[1;32m~\\AppData\\Roaming\\Python\\Python311\\site-packages\\pandas\\core\\indexes\\base.py:3653\u001b[0m, in \u001b[0;36mIndex.get_loc\u001b[1;34m(self, key)\u001b[0m\n\u001b[0;32m   3652\u001b[0m \u001b[38;5;28;01mtry\u001b[39;00m:\n\u001b[1;32m-> 3653\u001b[0m     \u001b[38;5;28;01mreturn\u001b[39;00m \u001b[38;5;28mself\u001b[39m\u001b[38;5;241m.\u001b[39m_engine\u001b[38;5;241m.\u001b[39mget_loc(casted_key)\n\u001b[0;32m   3654\u001b[0m \u001b[38;5;28;01mexcept\u001b[39;00m \u001b[38;5;167;01mKeyError\u001b[39;00m \u001b[38;5;28;01mas\u001b[39;00m err:\n",
      "File \u001b[1;32m~\\AppData\\Roaming\\Python\\Python311\\site-packages\\pandas\\_libs\\index.pyx:147\u001b[0m, in \u001b[0;36mpandas._libs.index.IndexEngine.get_loc\u001b[1;34m()\u001b[0m\n",
      "File \u001b[1;32m~\\AppData\\Roaming\\Python\\Python311\\site-packages\\pandas\\_libs\\index.pyx:176\u001b[0m, in \u001b[0;36mpandas._libs.index.IndexEngine.get_loc\u001b[1;34m()\u001b[0m\n",
      "File \u001b[1;32mpandas\\_libs\\hashtable_class_helper.pxi:7080\u001b[0m, in \u001b[0;36mpandas._libs.hashtable.PyObjectHashTable.get_item\u001b[1;34m()\u001b[0m\n",
      "File \u001b[1;32mpandas\\_libs\\hashtable_class_helper.pxi:7088\u001b[0m, in \u001b[0;36mpandas._libs.hashtable.PyObjectHashTable.get_item\u001b[1;34m()\u001b[0m\n",
      "\u001b[1;31mKeyError\u001b[0m: 'Suscribers'",
      "\nThe above exception was the direct cause of the following exception:\n",
      "\u001b[1;31mKeyError\u001b[0m                                  Traceback (most recent call last)",
      "Cell \u001b[1;32mIn[33], line 1\u001b[0m\n\u001b[1;32m----> 1\u001b[0m df[\u001b[38;5;124m'\u001b[39m\u001b[38;5;124mSuscribers\u001b[39m\u001b[38;5;124m'\u001b[39m]\u001b[38;5;241m.\u001b[39mmin()\n",
      "File \u001b[1;32m~\\AppData\\Roaming\\Python\\Python311\\site-packages\\pandas\\core\\frame.py:3761\u001b[0m, in \u001b[0;36mDataFrame.__getitem__\u001b[1;34m(self, key)\u001b[0m\n\u001b[0;32m   3759\u001b[0m \u001b[38;5;28;01mif\u001b[39;00m \u001b[38;5;28mself\u001b[39m\u001b[38;5;241m.\u001b[39mcolumns\u001b[38;5;241m.\u001b[39mnlevels \u001b[38;5;241m>\u001b[39m \u001b[38;5;241m1\u001b[39m:\n\u001b[0;32m   3760\u001b[0m     \u001b[38;5;28;01mreturn\u001b[39;00m \u001b[38;5;28mself\u001b[39m\u001b[38;5;241m.\u001b[39m_getitem_multilevel(key)\n\u001b[1;32m-> 3761\u001b[0m indexer \u001b[38;5;241m=\u001b[39m \u001b[38;5;28mself\u001b[39m\u001b[38;5;241m.\u001b[39mcolumns\u001b[38;5;241m.\u001b[39mget_loc(key)\n\u001b[0;32m   3762\u001b[0m \u001b[38;5;28;01mif\u001b[39;00m is_integer(indexer):\n\u001b[0;32m   3763\u001b[0m     indexer \u001b[38;5;241m=\u001b[39m [indexer]\n",
      "File \u001b[1;32m~\\AppData\\Roaming\\Python\\Python311\\site-packages\\pandas\\core\\indexes\\base.py:3655\u001b[0m, in \u001b[0;36mIndex.get_loc\u001b[1;34m(self, key)\u001b[0m\n\u001b[0;32m   3653\u001b[0m     \u001b[38;5;28;01mreturn\u001b[39;00m \u001b[38;5;28mself\u001b[39m\u001b[38;5;241m.\u001b[39m_engine\u001b[38;5;241m.\u001b[39mget_loc(casted_key)\n\u001b[0;32m   3654\u001b[0m \u001b[38;5;28;01mexcept\u001b[39;00m \u001b[38;5;167;01mKeyError\u001b[39;00m \u001b[38;5;28;01mas\u001b[39;00m err:\n\u001b[1;32m-> 3655\u001b[0m     \u001b[38;5;28;01mraise\u001b[39;00m \u001b[38;5;167;01mKeyError\u001b[39;00m(key) \u001b[38;5;28;01mfrom\u001b[39;00m \u001b[38;5;21;01merr\u001b[39;00m\n\u001b[0;32m   3656\u001b[0m \u001b[38;5;28;01mexcept\u001b[39;00m \u001b[38;5;167;01mTypeError\u001b[39;00m:\n\u001b[0;32m   3657\u001b[0m     \u001b[38;5;66;03m# If we have a listlike key, _check_indexing_error will raise\u001b[39;00m\n\u001b[0;32m   3658\u001b[0m     \u001b[38;5;66;03m#  InvalidIndexError. Otherwise we fall through and re-raise\u001b[39;00m\n\u001b[0;32m   3659\u001b[0m     \u001b[38;5;66;03m#  the TypeError.\u001b[39;00m\n\u001b[0;32m   3660\u001b[0m     \u001b[38;5;28mself\u001b[39m\u001b[38;5;241m.\u001b[39m_check_indexing_error(key)\n",
      "\u001b[1;31mKeyError\u001b[0m: 'Suscribers'"
     ]
    }
   ],
   "source": [
    "df['Suscribers'].min()"
   ]
  },
  {
   "cell_type": "code",
   "execution_count": null,
   "id": "dbbd8b7c",
   "metadata": {
    "scrolled": true
   },
   "outputs": [],
   "source": [
    "plt.figure(figsize = (7,3))\n",
    "plt.title(\"The Subscribers Boxplot\")\n",
    "sns.boxplot(x = df['Subscribers'], fliersize = 3)\n",
    "plt.xlabel(\"Number of Subscribers\")\n",
    "plt.show()"
   ]
  },
  {
   "cell_type": "code",
   "execution_count": null,
   "id": "dfcd4e35",
   "metadata": {},
   "outputs": [],
   "source": [
    "sns.pairplot(data = df, kind = 'scatter')"
   ]
  },
  {
   "cell_type": "markdown",
   "id": "c65fbcda",
   "metadata": {},
   "source": [
    "# 2. Trend Analysis:"
   ]
  },
  {
   "cell_type": "markdown",
   "id": "1d998278",
   "metadata": {},
   "source": [
    "* Identify trends among the top YouTube streamers. Which categories are the most popular?\n",
    "* Is there a correlation between the number of subscribers and the number of likes or comments?\n"
   ]
  },
  {
   "cell_type": "code",
   "execution_count": null,
   "id": "e06d4c2d",
   "metadata": {},
   "outputs": [],
   "source": []
  },
  {
   "cell_type": "code",
   "execution_count": null,
   "id": "baa60095",
   "metadata": {
    "scrolled": false
   },
   "outputs": [],
   "source": [
    "# find the most popular category in youtube streams\n",
    "Popula_categories = df['Categories'].value_counts()\n",
    "Popula_categories.head()"
   ]
  },
  {
   "cell_type": "code",
   "execution_count": null,
   "id": "3ed0191d",
   "metadata": {},
   "outputs": [],
   "source": []
  },
  {
   "cell_type": "code",
   "execution_count": null,
   "id": "7da0e4ae",
   "metadata": {},
   "outputs": [],
   "source": [
    " # find the least popular category in youtube streams\n",
    "Popula_categories = df['Categories'].value_counts()\n",
    "Popula_categories.tail()"
   ]
  },
  {
   "cell_type": "code",
   "execution_count": null,
   "id": "d3de07c8",
   "metadata": {
    "scrolled": false
   },
   "outputs": [],
   "source": [
    "# Plot the most popular categories in Youtube \n",
    "\n",
    "plt.figure(figsize = (11,4))\n",
    "sns.barplot(x=df['Categories'].value_counts().index, y=df['Categories'].value_counts().values)\n",
    "plt.title('Top YouTube Streamer Categories')\n",
    "plt.xlabel('Categories')\n",
    "plt.ylabel('Number of Streamers/ Visits')\n",
    "plt.xticks(rotation=60, ha='right')\n",
    "plt.show()\n"
   ]
  },
  {
   "cell_type": "code",
   "execution_count": null,
   "id": "35d3d279",
   "metadata": {},
   "outputs": [],
   "source": []
  },
  {
   "cell_type": "code",
   "execution_count": null,
   "id": "9872ee90",
   "metadata": {},
   "outputs": [],
   "source": [
    "plt.figure(figsize = (13, 7))\n",
    "correlation = df.corr(numeric_only = True)\n",
    "sns.heatmap(correlation, annot = True, cmap = 'coolwarm')\n",
    "plt.title('Correlation between number of subscribers and the number of likes or comments')\n",
    "plt.tight_layout()"
   ]
  },
  {
   "cell_type": "markdown",
   "id": "0f4492b3",
   "metadata": {},
   "source": []
  },
  {
   "cell_type": "markdown",
   "id": "0af765c0",
   "metadata": {},
   "source": [
    "# 3.  Audience Study:"
   ]
  },
  {
   "cell_type": "markdown",
   "id": "39cc1e02",
   "metadata": {},
   "source": [
    "* Analyze the distribution of streamers audiences by country. Are there regional preferences forspecific content categories? "
   ]
  },
  {
   "cell_type": "code",
   "execution_count": 34,
   "id": "d65c5548",
   "metadata": {
    "scrolled": false
   },
   "outputs": [
    {
     "data": {
      "image/png": "[encoded data removed]",
      "text/plain": [
       "<Figure size 1400x1100 with 1 Axes>"
      ]
     },
     "metadata": {},
     "output_type": "display_data"
    }
   ],
   "source": [
    "plt.figure(figsize=(14, 11))\n",
    "sns.countplot(x='Country', hue='Categories', data=df)\n",
    "plt.title('Preference wise of Categories by Countries')\n",
    "plt.xlabel('Country')\n",
    "plt.ylabel('Number of Streamers')\n",
    "plt.xticks(rotation=45, ha='right')\n",
    "plt.legend(title='Categories', bbox_to_anchor=(1.00, 1), loc='upper left')\n",
    "plt.show()"
   ]
  },
  {
   "cell_type": "code",
   "execution_count": 35,
   "id": "3ff69912",
   "metadata": {},
   "outputs": [
    {
     "data": {
      "text/plain": [
       "Country\n",
       "Estados Unidos    293\n",
       "India             241\n",
       "Unknown           171\n",
       "Brasil             64\n",
       "México             58\n",
       "Name: count, dtype: int64"
      ]
     },
     "execution_count": 35,
     "metadata": {},
     "output_type": "execute_result"
    }
   ],
   "source": [
    "countries_list = df['Country'].value_counts()\n",
    "countries_list.head()"
   ]
  },
  {
   "cell_type": "markdown",
   "id": "fc011cdf",
   "metadata": {},
   "source": [
    "* By the look of things, it shows that musica y balile is doing expectional well in Estados Unidos Region, followed by Uknown in number 2."
   ]
  },
  {
   "cell_type": "markdown",
   "id": "1362face",
   "metadata": {},
   "source": [
    "# 4. Performance Metrics:"
   ]
  },
  {
   "cell_type": "markdown",
   "id": "22afe82a",
   "metadata": {},
   "source": [
    "* Calculate and visualize the average number of subscribers, visits, likes, and comments.\n",
    "* Are there patterns or anomalies in these metrics?"
   ]
  },
  {
   "cell_type": "code",
   "execution_count": 36,
   "id": "2b999cef",
   "metadata": {},
   "outputs": [
    {
     "name": "stdout",
     "output_type": "stream",
     "text": [
      "Average Subscribers: 21894399.99\n",
      "Average Visits: 1209446.31\n",
      "Average Likes: 53632.59\n",
      "Average Comments: 1288.77\n"
     ]
    }
   ],
   "source": [
    "# find the average of Subscribers, Visits, Likes and Comments\n",
    "avg_suscribers = df['Subscribers'].mean()\n",
    "avg_visits = df['Visits'].mean()\n",
    "avg_likes = df['Likes'].mean()\n",
    "avg_comments = df['Comments'].mean()\n",
    "\n",
    "print(f'Average Subscribers: {avg_suscribers:0.2f}')\n",
    "print(f'Average Visits: {avg_visits:0.2f}')\n",
    "print(f'Average Likes: {avg_likes:0.2f}')\n",
    "print(f'Average Comments: {avg_comments:0.2f}')"
   ]
  },
  {
   "cell_type": "code",
   "execution_count": 37,
   "id": "3d2f4f6a",
   "metadata": {
    "scrolled": false
   },
   "outputs": [
    {
     "data": {
      "image/png": "[encoded data removed]",
      "text/plain": [
       "<Figure size 1000x500 with 1 Axes>"
      ]
     },
     "metadata": {},
     "output_type": "display_data"
    }
   ],
   "source": [
    "# Visualize metrics\n",
    "plt.figure(figsize=(10, 5))\n",
    "metrics_data = df[['Subscribers', 'Visits', 'Likes', 'Comments']].mean()\n",
    "metrics_data.plot(kind='bar', color=['blue', 'green', 'orange', 'purple'])\n",
    "#sns.boxplot(data= metrics_data)\n",
    "plt.title('Distribution of Performance Metrics')\n",
    "plt.xlabel('Metric')\n",
    "plt.ylabel('Values')\n",
    "plt.tight_layout()\n",
    "plt.show()\n"
   ]
  },
  {
   "cell_type": "markdown",
   "id": "5c5260af",
   "metadata": {},
   "source": [
    "# 5. Content Categories:"
   ]
  },
  {
   "cell_type": "markdown",
   "id": "a23d827f",
   "metadata": {},
   "source": [
    "* Explore the distribution of content categories. Which categories have the highest number of streamers?\n",
    "* Are there specific categories with exceptional performance metrics?"
   ]
  },
  {
   "cell_type": "code",
   "execution_count": 38,
   "id": "fe20a309",
   "metadata": {
    "scrolled": false
   },
   "outputs": [
    {
     "data": {
      "image/png": "[encoded data removed]",
      "text/plain": [
       "<Figure size 1000x500 with 2 Axes>"
      ]
     },
     "metadata": {},
     "output_type": "display_data"
    }
   ],
   "source": [
    "# Visualize the group with the highest number of streams\n",
    "avg_category = df.groupby('Categories').mean(numeric_only =True)\n",
    " \n",
    "plt.figure(figsize=(10, 5))\n",
    "sns.heatmap(avg_category[['Visits', 'Comments','Subscribers', 'Likes']])\n",
    "plt.title('Performance Metrics by Content Categories')\n",
    "plt.xlabel('Metric')\n",
    "plt.ylabel('Categories')\n",
    "plt.tight_layout()\n",
    "plt.show()"
   ]
  },
  {
   "cell_type": "code",
   "execution_count": 39,
   "id": "ce923c74",
   "metadata": {
    "scrolled": true
   },
   "outputs": [
    {
     "data": {
      "text/html": [
       "<div>\n",
       "<style scoped>\n",
       "    .dataframe tbody tr th:only-of-type {\n",
       "        vertical-align: middle;\n",
       "    }\n",
       "\n",
       "    .dataframe tbody tr th {\n",
       "        vertical-align: top;\n",
       "    }\n",
       "\n",
       "    .dataframe thead th {\n",
       "        text-align: right;\n",
       "    }\n",
       "</style>\n",
       "<table border=\"1\" class=\"dataframe\">\n",
       "  <thead>\n",
       "    <tr style=\"text-align: right;\">\n",
       "      <th></th>\n",
       "      <th>Categories</th>\n",
       "    </tr>\n",
       "    <tr>\n",
       "      <th>Visits</th>\n",
       "      <th></th>\n",
       "    </tr>\n",
       "  </thead>\n",
       "  <tbody>\n",
       "    <tr>\n",
       "      <th>117400000</th>\n",
       "      <td>Videojuegos, Humor</td>\n",
       "    </tr>\n",
       "    <tr>\n",
       "      <th>83100000</th>\n",
       "      <td>Vlogs diarios</td>\n",
       "    </tr>\n",
       "    <tr>\n",
       "      <th>52700000</th>\n",
       "      <td>Animación, Humor</td>\n",
       "    </tr>\n",
       "    <tr>\n",
       "      <th>21500000</th>\n",
       "      <td>Música y baile</td>\n",
       "    </tr>\n",
       "    <tr>\n",
       "      <th>19100000</th>\n",
       "      <td>Música y baile</td>\n",
       "    </tr>\n",
       "  </tbody>\n",
       "</table>\n",
       "</div>"
      ],
      "text/plain": [
       "                   Categories\n",
       "Visits                       \n",
       "117400000  Videojuegos, Humor\n",
       "83100000        Vlogs diarios\n",
       "52700000     Animación, Humor\n",
       "21500000       Música y baile\n",
       "19100000       Música y baile"
      ]
     },
     "execution_count": 39,
     "metadata": {},
     "output_type": "execute_result"
    }
   ],
   "source": [
    "Cat_grouped = (df[[\"Categories\", \"Visits\"]]\n",
    "           .groupby(\"Visits\")\n",
    "           .max()\n",
    "           .sort_values(by=\"Visits\", ascending = False)\n",
    "          )\n",
    "Cat_grouped.head()"
   ]
  },
  {
   "cell_type": "markdown",
   "id": "21603473",
   "metadata": {},
   "source": [
    "* Looking at my findings **Videojuegoe and Humor** has the exceptional performance metric followed by **Vlog diario** categories in number two."
   ]
  },
  {
   "cell_type": "markdown",
   "id": "eab07236",
   "metadata": {},
   "source": [
    "# 6. Brands and Collaborations:"
   ]
  },
  {
   "cell_type": "markdown",
   "id": "ec0a40bc",
   "metadata": {},
   "source": [
    "* Analyze whether streamers with high performance metrics receive more brand collaborations and\n",
    "  marketing campaigns"
   ]
  },
  {
   "cell_type": "code",
   "execution_count": 40,
   "id": "e3e1ac62",
   "metadata": {},
   "outputs": [
    {
     "data": {
      "image/png": "[encoded data removed]",
      "text/plain": [
       "<Figure size 1000x600 with 1 Axes>"
      ]
     },
     "metadata": {},
     "output_type": "display_data"
    },
    {
     "name": "stdout",
     "output_type": "stream",
     "text": [
      "The correlation is between visits and brand collaboration: 0.24520315826666697\n"
     ]
    }
   ],
   "source": [
    "plt.figure(figsize=(10, 6))\n",
    "sns.scatterplot(x='Visits', y='Subscribers', data = df, color = 'blue')\n",
    "plt.title('Brand Collaborations vs Perforance metrics')\n",
    "plt.xlabel('Subscribers')\n",
    "plt.ylabel('Visits')\n",
    "plt.tight_layout()\n",
    "plt.show()\n",
    "\n",
    "Correlation_visit_sub = df['Visits'].corr(df['Subscribers'])\n",
    "print('The correlation is between visits and brand collaboration:', Correlation_visit_sub)"
   ]
  },
  {
   "cell_type": "markdown",
   "id": "e2d5123b",
   "metadata": {},
   "source": [
    "* According to the above finding, there is positive 0.24 correlation between visit and brand collaboration."
   ]
  },
  {
   "cell_type": "markdown",
   "id": "80926233",
   "metadata": {},
   "source": [
    "# 7. Benchmarking:"
   ]
  },
  {
   "cell_type": "markdown",
   "id": "41897683",
   "metadata": {},
   "source": [
    "*  Identify streamers with above-average performance in terms of subscribers, visits, likes, and comments.\n",
    "*  Who are the top-performing content creators?"
   ]
  },
  {
   "cell_type": "code",
   "execution_count": 41,
   "id": "1361024e",
   "metadata": {},
   "outputs": [
    {
     "name": "stdout",
     "output_type": "stream",
     "text": [
      "**The first 5 Top content creator: \n",
      "         Username              Categories  Subscribers         Country  \\\n",
      "Rank                                                                     \n",
      "2         MrBeast      Videojuegos, Humor    183500000  Estados Unidos   \n",
      "6       PewDiePie  Películas, Videojuegos    111500000  Estados Unidos   \n",
      "27    dudeperfect             Videojuegos     59700000  Estados Unidos   \n",
      "35    TaylorSwift          Música y baile     54100000  Estados Unidos   \n",
      "40    JuegaGerman    Películas, Animación     48600000          México   \n",
      "\n",
      "         Visits    Likes  Comments  \n",
      "Rank                                \n",
      "2     117400000  5300000     18500  \n",
      "6       2400000   197300      4900  \n",
      "27      5300000   156500      4200  \n",
      "35      4300000   300400     15000  \n",
      "40      2000000   117100      3000  \n"
     ]
    }
   ],
   "source": [
    "# calculate the average values for each metric\n",
    "avg_suscribers = df['Subscribers'].mean()\n",
    "avg_visits = df['Visits'].mean()\n",
    "avg_likes = df['Likes'].mean()\n",
    "avg_comments = df['Comments'].mean()\n",
    "\n",
    "# find the top five performing content creators\n",
    "top_performers = df[\n",
    "(df['Subscribers'] > avg_suscribers) &\n",
    "(df['Visits'] > avg_visits) &\n",
    "(df['Likes'] > avg_likes) &\n",
    "(df['Comments'] > avg_comments)]\n",
    "print(\"**The first 5 Top content creator: \")\n",
    "print(top_performers.head())"
   ]
  },
  {
   "cell_type": "markdown",
   "id": "e8496960",
   "metadata": {},
   "source": [
    "# 8. Content Recommendations:"
   ]
  },
  {
   "cell_type": "markdown",
   "id": "40840ade",
   "metadata": {},
   "source": [
    "* Propose a system for enhancing content recommendations to YouTube users based on streamers categories and performance metrics.\n",
    "\n"
   ]
  },
  {
   "cell_type": "markdown",
   "id": "9fc8d7a4",
   "metadata": {},
   "source": [
    "### 1. Content-Based Filtering\n",
    "\n",
    "  * Utilize streaming categories as content features to suggest related content to users according to their preferences.\n",
    "  * Utilize performance metrics, including subscribers, visits, likes, and comments, as indicators of content popularity and engagement for recommending high-performing content to users."
   ]
  },
  {
   "cell_type": "markdown",
   "id": "22b9bdb4",
   "metadata": {},
   "source": [
    "### 2. Collaborative filtering:\n",
    "\n",
    "* Utilize user engagement information, including viewing history, preferences, and subscriptions, to discern comparable users and suggest content that aligns with the preferences of similar users, enhancing the likelihood of recommending popular content within that user group.\n",
    "* Integrate streamer categories and performance metrics into collaborative filtering algorithms to enhance recommendation precision. This approach tailors suggestions based on both user preferences and the performance metrics of the content, ensuring a personalized and informed recommendation system."
   ]
  },
  {
   "cell_type": "markdown",
   "id": "4b47e40e",
   "metadata": {},
   "source": [
    "### 3. Performance monitoring:\n",
    "\n",
    "* Introduce performance monitoring to assess the efficacy of recommendations by analyzing user engagement metrics."
   ]
  },
  {
   "cell_type": "code",
   "execution_count": null,
   "id": "04e7dad8",
   "metadata": {},
   "outputs": [],
   "source": []
  }
 ],
 "metadata": {
  "kernelspec": {
   "display_name": "Python 3 (ipykernel)",
   "language": "python",
   "name": "python3"
  },
  "language_info": {
   "codemirror_mode": {
    "name": "ipython",
    "version": 3
   },
   "file_extension": ".py",
   "mimetype": "text/x-python",
   "name": "python",
   "nbconvert_exporter": "python",
   "pygments_lexer": "ipython3",
   "version": "3.11.4"
  }
 },
 "nbformat": 4,
 "nbformat_minor": 5
}
